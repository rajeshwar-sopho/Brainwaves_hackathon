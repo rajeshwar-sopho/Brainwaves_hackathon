{
 "cells": [
  {
   "cell_type": "code",
   "execution_count": 1,
   "metadata": {},
   "outputs": [],
   "source": [
    "import pandas as pd\n",
    "import numpy as np\n",
    "import matplotlib.pyplot as plt\n",
    "import itertools\n",
    "from sklearn.feature_extraction.text import CountVectorizer, TfidfVectorizer, HashingVectorizer\n",
    "from sklearn.model_selection import train_test_split\n",
    "from sklearn.linear_model import PassiveAggressiveClassifier\n",
    "from sklearn.naive_bayes import MultinomialNB\n",
    "from sklearn import metrics\n",
    "import seaborn as sns\n",
    "%matplotlib inline\n",
    "#%matplotlib notebook\n",
    "import nltk\n",
    "import gensim\n",
    "import spacy"
   ]
  },
  {
   "cell_type": "code",
   "execution_count": 2,
   "metadata": {},
   "outputs": [
    {
     "data": {
      "text/html": [
       "<div>\n",
       "<style scoped>\n",
       "    .dataframe tbody tr th:only-of-type {\n",
       "        vertical-align: middle;\n",
       "    }\n",
       "\n",
       "    .dataframe tbody tr th {\n",
       "        vertical-align: top;\n",
       "    }\n",
       "\n",
       "    .dataframe thead th {\n",
       "        text-align: right;\n",
       "    }\n",
       "</style>\n",
       "<table border=\"1\" class=\"dataframe\">\n",
       "  <thead>\n",
       "    <tr style=\"text-align: right;\">\n",
       "      <th></th>\n",
       "      <th>Complaint-ID</th>\n",
       "      <th>Date-received</th>\n",
       "      <th>Transaction-Type</th>\n",
       "      <th>Complaint-reason</th>\n",
       "      <th>Company-response</th>\n",
       "      <th>Date-sent-to-company</th>\n",
       "      <th>Complaint-Status</th>\n",
       "      <th>Consumer-disputes</th>\n",
       "      <th>Consumer-complaint-summary</th>\n",
       "    </tr>\n",
       "  </thead>\n",
       "  <tbody>\n",
       "    <tr>\n",
       "      <th>0</th>\n",
       "      <td>Tr-1</td>\n",
       "      <td>11/11/2015</td>\n",
       "      <td>Mortgage</td>\n",
       "      <td>Loan servicing, payments, escrow account</td>\n",
       "      <td>NaN</td>\n",
       "      <td>11/11/2015</td>\n",
       "      <td>Closed with explanation</td>\n",
       "      <td>Yes</td>\n",
       "      <td>Seterus, Inc a déposé un faux rapport auprès d...</td>\n",
       "    </tr>\n",
       "    <tr>\n",
       "      <th>1</th>\n",
       "      <td>Tr-2</td>\n",
       "      <td>7/7/2015</td>\n",
       "      <td>Credit reporting</td>\n",
       "      <td>Incorrect information on credit report</td>\n",
       "      <td>Company chooses not to provide a public response</td>\n",
       "      <td>7/7/2015</td>\n",
       "      <td>Closed with non-monetary relief</td>\n",
       "      <td>No</td>\n",
       "      <td>XX / XX / XXXX La requête en faillite n ° XXXX...</td>\n",
       "    </tr>\n",
       "    <tr>\n",
       "      <th>2</th>\n",
       "      <td>Tr-3</td>\n",
       "      <td>5/7/2015</td>\n",
       "      <td>Bank account or service</td>\n",
       "      <td>Using a debit or ATM card</td>\n",
       "      <td>NaN</td>\n",
       "      <td>5/7/2015</td>\n",
       "      <td>Closed with explanation</td>\n",
       "      <td>No</td>\n",
       "      <td>El XXXX / XXXX / 15, estaba preparando el vuel...</td>\n",
       "    </tr>\n",
       "    <tr>\n",
       "      <th>3</th>\n",
       "      <td>Tr-4</td>\n",
       "      <td>11/12/2016</td>\n",
       "      <td>Debt collection</td>\n",
       "      <td>Cont'd attempts collect debt not owed</td>\n",
       "      <td>Company believes it acted appropriately as aut...</td>\n",
       "      <td>11/12/2016</td>\n",
       "      <td>Closed with explanation</td>\n",
       "      <td>No</td>\n",
       "      <td>The loan was paid in XXXX XXXX. In XXXX, 4 yea...</td>\n",
       "    </tr>\n",
       "    <tr>\n",
       "      <th>4</th>\n",
       "      <td>Tr-5</td>\n",
       "      <td>9/29/2016</td>\n",
       "      <td>Credit card</td>\n",
       "      <td>Payoff process</td>\n",
       "      <td>Company has responded to the consumer and the ...</td>\n",
       "      <td>9/29/2016</td>\n",
       "      <td>Closed with explanation</td>\n",
       "      <td>No</td>\n",
       "      <td>J'ai obtenu un compte de crédit de soins pour ...</td>\n",
       "    </tr>\n",
       "    <tr>\n",
       "      <th>5</th>\n",
       "      <td>Tr-6</td>\n",
       "      <td>8/2/2016</td>\n",
       "      <td>Mortgage</td>\n",
       "      <td>Loan modification,collection,foreclosure</td>\n",
       "      <td>NaN</td>\n",
       "      <td>8/3/2016</td>\n",
       "      <td>Closed with explanation</td>\n",
       "      <td>Yes</td>\n",
       "      <td>The owner of my original mortgage filed for ba...</td>\n",
       "    </tr>\n",
       "    <tr>\n",
       "      <th>6</th>\n",
       "      <td>Tr-7</td>\n",
       "      <td>3/26/2017</td>\n",
       "      <td>Credit reporting</td>\n",
       "      <td>Incorrect information on credit report</td>\n",
       "      <td>NaN</td>\n",
       "      <td>3/26/2017</td>\n",
       "      <td>Closed with explanation</td>\n",
       "      <td>No</td>\n",
       "      <td>J'ai été victime d'une fraude d'identité et j'...</td>\n",
       "    </tr>\n",
       "    <tr>\n",
       "      <th>7</th>\n",
       "      <td>Tr-8</td>\n",
       "      <td>10/15/2016</td>\n",
       "      <td>Bank account or service</td>\n",
       "      <td>Problems caused by my funds being low</td>\n",
       "      <td>Company has responded to the consumer and the ...</td>\n",
       "      <td>10/15/2016</td>\n",
       "      <td>Closed with explanation</td>\n",
       "      <td>No</td>\n",
       "      <td>Je suis en train de faire faillite et, par con...</td>\n",
       "    </tr>\n",
       "    <tr>\n",
       "      <th>8</th>\n",
       "      <td>Tr-9</td>\n",
       "      <td>1/18/2016</td>\n",
       "      <td>Debt collection</td>\n",
       "      <td>Cont'd attempts collect debt not owed</td>\n",
       "      <td>NaN</td>\n",
       "      <td>1/18/2016</td>\n",
       "      <td>Closed with explanation</td>\n",
       "      <td>Yes</td>\n",
       "      <td>Una agencia de cobranza me hizo adulterar de q...</td>\n",
       "    </tr>\n",
       "    <tr>\n",
       "      <th>9</th>\n",
       "      <td>Tr-10</td>\n",
       "      <td>8/17/2015</td>\n",
       "      <td>Credit reporting</td>\n",
       "      <td>Incorrect information on credit report</td>\n",
       "      <td>Company chooses not to provide a public response</td>\n",
       "      <td>8/17/2015</td>\n",
       "      <td>Closed with non-monetary relief</td>\n",
       "      <td>No</td>\n",
       "      <td>Le XXXX / XXXX / 2015, j'ai reçu une réponse d...</td>\n",
       "    </tr>\n",
       "  </tbody>\n",
       "</table>\n",
       "</div>"
      ],
      "text/plain": [
       "  Complaint-ID Date-received         Transaction-Type  \\\n",
       "0         Tr-1    11/11/2015                 Mortgage   \n",
       "1         Tr-2      7/7/2015         Credit reporting   \n",
       "2         Tr-3      5/7/2015  Bank account or service   \n",
       "3         Tr-4    11/12/2016          Debt collection   \n",
       "4         Tr-5     9/29/2016              Credit card   \n",
       "5         Tr-6      8/2/2016                 Mortgage   \n",
       "6         Tr-7     3/26/2017         Credit reporting   \n",
       "7         Tr-8    10/15/2016  Bank account or service   \n",
       "8         Tr-9     1/18/2016          Debt collection   \n",
       "9        Tr-10     8/17/2015         Credit reporting   \n",
       "\n",
       "                           Complaint-reason  \\\n",
       "0  Loan servicing, payments, escrow account   \n",
       "1    Incorrect information on credit report   \n",
       "2                 Using a debit or ATM card   \n",
       "3     Cont'd attempts collect debt not owed   \n",
       "4                            Payoff process   \n",
       "5  Loan modification,collection,foreclosure   \n",
       "6    Incorrect information on credit report   \n",
       "7     Problems caused by my funds being low   \n",
       "8     Cont'd attempts collect debt not owed   \n",
       "9    Incorrect information on credit report   \n",
       "\n",
       "                                    Company-response Date-sent-to-company  \\\n",
       "0                                                NaN           11/11/2015   \n",
       "1   Company chooses not to provide a public response             7/7/2015   \n",
       "2                                                NaN             5/7/2015   \n",
       "3  Company believes it acted appropriately as aut...           11/12/2016   \n",
       "4  Company has responded to the consumer and the ...            9/29/2016   \n",
       "5                                                NaN             8/3/2016   \n",
       "6                                                NaN            3/26/2017   \n",
       "7  Company has responded to the consumer and the ...           10/15/2016   \n",
       "8                                                NaN            1/18/2016   \n",
       "9   Company chooses not to provide a public response            8/17/2015   \n",
       "\n",
       "                  Complaint-Status Consumer-disputes  \\\n",
       "0          Closed with explanation               Yes   \n",
       "1  Closed with non-monetary relief                No   \n",
       "2          Closed with explanation                No   \n",
       "3          Closed with explanation                No   \n",
       "4          Closed with explanation                No   \n",
       "5          Closed with explanation               Yes   \n",
       "6          Closed with explanation                No   \n",
       "7          Closed with explanation                No   \n",
       "8          Closed with explanation               Yes   \n",
       "9  Closed with non-monetary relief                No   \n",
       "\n",
       "                          Consumer-complaint-summary  \n",
       "0  Seterus, Inc a déposé un faux rapport auprès d...  \n",
       "1  XX / XX / XXXX La requête en faillite n ° XXXX...  \n",
       "2  El XXXX / XXXX / 15, estaba preparando el vuel...  \n",
       "3  The loan was paid in XXXX XXXX. In XXXX, 4 yea...  \n",
       "4  J'ai obtenu un compte de crédit de soins pour ...  \n",
       "5  The owner of my original mortgage filed for ba...  \n",
       "6  J'ai été victime d'une fraude d'identité et j'...  \n",
       "7  Je suis en train de faire faillite et, par con...  \n",
       "8  Una agencia de cobranza me hizo adulterar de q...  \n",
       "9  Le XXXX / XXXX / 2015, j'ai reçu une réponse d...  "
      ]
     },
     "execution_count": 2,
     "metadata": {},
     "output_type": "execute_result"
    }
   ],
   "source": [
    "# load data\n",
    "df=pd.read_csv('train.csv')\n",
    "df.head(10)"
   ]
  },
  {
   "cell_type": "code",
   "execution_count": 3,
   "metadata": {},
   "outputs": [
    {
     "data": {
      "text/plain": [
       "<bound method DataFrame.info of       Complaint-ID Date-received  \\\n",
       "0             Tr-1    11/11/2015   \n",
       "1             Tr-2      7/7/2015   \n",
       "2             Tr-3      5/7/2015   \n",
       "3             Tr-4    11/12/2016   \n",
       "4             Tr-5     9/29/2016   \n",
       "5             Tr-6      8/2/2016   \n",
       "6             Tr-7     3/26/2017   \n",
       "7             Tr-8    10/15/2016   \n",
       "8             Tr-9     1/18/2016   \n",
       "9            Tr-10     8/17/2015   \n",
       "10           Tr-11     1/10/2016   \n",
       "11           Tr-12      3/5/2016   \n",
       "12           Tr-13     1/29/2016   \n",
       "13           Tr-14     9/24/2015   \n",
       "14           Tr-15    12/28/2016   \n",
       "15           Tr-16     8/17/2017   \n",
       "16           Tr-17      5/2/2017   \n",
       "17           Tr-18     9/29/2016   \n",
       "18           Tr-19      3/2/2017   \n",
       "19           Tr-20     8/31/2016   \n",
       "20           Tr-21     2/18/2016   \n",
       "21           Tr-22      9/8/2017   \n",
       "22           Tr-23     4/28/2016   \n",
       "23           Tr-24     5/19/2016   \n",
       "24           Tr-25     3/10/2017   \n",
       "25           Tr-26     6/22/2017   \n",
       "26           Tr-27     1/31/2016   \n",
       "27           Tr-28     2/18/2016   \n",
       "28           Tr-29     7/13/2017   \n",
       "29           Tr-30      6/4/2015   \n",
       "...            ...           ...   \n",
       "43236     Tr-43237    11/18/2016   \n",
       "43237     Tr-43238      9/9/2016   \n",
       "43238     Tr-43239     7/28/2015   \n",
       "43239     Tr-43240     1/31/2017   \n",
       "43240     Tr-43241     1/27/2017   \n",
       "43241     Tr-43242     8/11/2016   \n",
       "43242     Tr-43243      7/2/2016   \n",
       "43243     Tr-43244     4/28/2015   \n",
       "43244     Tr-43245     1/12/2016   \n",
       "43245     Tr-43246     8/31/2015   \n",
       "43246     Tr-43247     7/19/2015   \n",
       "43247     Tr-43248     5/28/2016   \n",
       "43248     Tr-43249    12/27/2016   \n",
       "43249     Tr-43250     7/23/2015   \n",
       "43250     Tr-43251     5/20/2016   \n",
       "43251     Tr-43252      3/2/2016   \n",
       "43252     Tr-43253     4/21/2017   \n",
       "43253     Tr-43254      9/1/2015   \n",
       "43254     Tr-43255     12/4/2016   \n",
       "43255     Tr-43256      6/5/2016   \n",
       "43256     Tr-43257     9/28/2015   \n",
       "43257     Tr-43258     4/28/2015   \n",
       "43258     Tr-43259     4/25/2017   \n",
       "43259     Tr-43260    11/23/2016   \n",
       "43260     Tr-43261     5/10/2017   \n",
       "43261     Tr-43262     7/28/2017   \n",
       "43262     Tr-43263     1/23/2017   \n",
       "43263     Tr-43264      3/9/2017   \n",
       "43264     Tr-43265     7/15/2017   \n",
       "43265     Tr-43266      6/8/2017   \n",
       "\n",
       "                                        Transaction-Type  \\\n",
       "0                                               Mortgage   \n",
       "1                                       Credit reporting   \n",
       "2                                Bank account or service   \n",
       "3                                        Debt collection   \n",
       "4                                            Credit card   \n",
       "5                                               Mortgage   \n",
       "6                                       Credit reporting   \n",
       "7                                Bank account or service   \n",
       "8                                        Debt collection   \n",
       "9                                       Credit reporting   \n",
       "10                                              Mortgage   \n",
       "11                                           Credit card   \n",
       "12                                      Credit reporting   \n",
       "13                                      Credit reporting   \n",
       "14                                         Consumer Loan   \n",
       "15                           Credit card or prepaid card   \n",
       "16     Credit reporting, credit repair services, or o...   \n",
       "17                                       Debt collection   \n",
       "18                                       Debt collection   \n",
       "19                                       Debt collection   \n",
       "20                                           Credit card   \n",
       "21     Credit reporting, credit repair services, or o...   \n",
       "22                                              Mortgage   \n",
       "23                                         Consumer Loan   \n",
       "24                                      Credit reporting   \n",
       "25                           Credit card or prepaid card   \n",
       "26                               Bank account or service   \n",
       "27                                      Credit reporting   \n",
       "28     Credit reporting, credit repair services, or o...   \n",
       "29                                       Debt collection   \n",
       "...                                                  ...   \n",
       "43236                            Bank account or service   \n",
       "43237                                           Mortgage   \n",
       "43238                                      Consumer Loan   \n",
       "43239                                        Credit card   \n",
       "43240                                           Mortgage   \n",
       "43241                                   Credit reporting   \n",
       "43242                                   Credit reporting   \n",
       "43243                                           Mortgage   \n",
       "43244                                           Mortgage   \n",
       "43245                                           Mortgage   \n",
       "43246                                    Debt collection   \n",
       "43247                            Bank account or service   \n",
       "43248                                   Credit reporting   \n",
       "43249                                    Debt collection   \n",
       "43250                                           Mortgage   \n",
       "43251                                        Credit card   \n",
       "43252                                    Debt collection   \n",
       "43253                                    Debt collection   \n",
       "43254                                    Debt collection   \n",
       "43255                                           Mortgage   \n",
       "43256                                           Mortgage   \n",
       "43257                                        Credit card   \n",
       "43258                                    Debt collection   \n",
       "43259                                           Mortgage   \n",
       "43260  Credit reporting, credit repair services, or o...   \n",
       "43261  Credit reporting, credit repair services, or o...   \n",
       "43262                                    Debt collection   \n",
       "43263                                           Mortgage   \n",
       "43264                                           Mortgage   \n",
       "43265                                    Debt collection   \n",
       "\n",
       "                                        Complaint-reason  \\\n",
       "0               Loan servicing, payments, escrow account   \n",
       "1                 Incorrect information on credit report   \n",
       "2                              Using a debit or ATM card   \n",
       "3                  Cont'd attempts collect debt not owed   \n",
       "4                                         Payoff process   \n",
       "5               Loan modification,collection,foreclosure   \n",
       "6                 Incorrect information on credit report   \n",
       "7                  Problems caused by my funds being low   \n",
       "8                  Cont'd attempts collect debt not owed   \n",
       "9                 Incorrect information on credit report   \n",
       "10              Loan servicing, payments, escrow account   \n",
       "11              Credit card protection / Debt protection   \n",
       "12                Incorrect information on credit report   \n",
       "13                Incorrect information on credit report   \n",
       "14                            Managing the loan or lease   \n",
       "15                          Problem when making payments   \n",
       "16                  Incorrect information on your report   \n",
       "17                    False statements or representation   \n",
       "18                       Disclosure verification of debt   \n",
       "19                 Cont'd attempts collect debt not owed   \n",
       "20                 Customer service / Customer relations   \n",
       "21                           Improper use of your report   \n",
       "22              Loan servicing, payments, escrow account   \n",
       "23                            Managing the loan or lease   \n",
       "24                Incorrect information on credit report   \n",
       "25                          Problem when making payments   \n",
       "26                              Deposits and withdrawals   \n",
       "27                Incorrect information on credit report   \n",
       "28                  Incorrect information on your report   \n",
       "29                                 Communication tactics   \n",
       "...                                                  ...   \n",
       "43236              Problems caused by my funds being low   \n",
       "43237           Application, originator, mortgage broker   \n",
       "43238           Charged fees or interest I didn't expect   \n",
       "43239                               APR or interest rate   \n",
       "43240           Loan servicing, payments, escrow account   \n",
       "43241             Incorrect information on credit report   \n",
       "43242             Incorrect information on credit report   \n",
       "43243           Loan modification,collection,foreclosure   \n",
       "43244           Application, originator, mortgage broker   \n",
       "43245           Loan servicing, payments, escrow account   \n",
       "43246              Cont'd attempts collect debt not owed   \n",
       "43247                           Deposits and withdrawals   \n",
       "43248             Incorrect information on credit report   \n",
       "43249                              Communication tactics   \n",
       "43250           Loan servicing, payments, escrow account   \n",
       "43251                                 Delinquent account   \n",
       "43252              Cont'd attempts collect debt not owed   \n",
       "43253               Taking/threatening an illegal action   \n",
       "43254                Improper contact or sharing of info   \n",
       "43255           Loan modification,collection,foreclosure   \n",
       "43256           Loan servicing, payments, escrow account   \n",
       "43257                                  Billing statement   \n",
       "43258  Took or threatened to take negative or legal a...   \n",
       "43259           Loan modification,collection,foreclosure   \n",
       "43260               Incorrect information on your report   \n",
       "43261                        Improper use of your report   \n",
       "43262              Cont'd attempts collect debt not owed   \n",
       "43263           Loan modification,collection,foreclosure   \n",
       "43264                     Trouble during payment process   \n",
       "43265                  Attempts to collect debt not owed   \n",
       "\n",
       "                                        Company-response Date-sent-to-company  \\\n",
       "0                                                    NaN           11/11/2015   \n",
       "1       Company chooses not to provide a public response             7/7/2015   \n",
       "2                                                    NaN             5/7/2015   \n",
       "3      Company believes it acted appropriately as aut...           11/12/2016   \n",
       "4      Company has responded to the consumer and the ...            9/29/2016   \n",
       "5                                                    NaN             8/3/2016   \n",
       "6                                                    NaN            3/26/2017   \n",
       "7      Company has responded to the consumer and the ...           10/15/2016   \n",
       "8                                                    NaN            1/18/2016   \n",
       "9       Company chooses not to provide a public response            8/17/2015   \n",
       "10                                                   NaN            1/15/2016   \n",
       "11                                                   NaN             3/5/2016   \n",
       "12     Company has responded to the consumer and the ...            1/29/2016   \n",
       "13      Company chooses not to provide a public response            9/24/2015   \n",
       "14                                                   NaN           12/28/2016   \n",
       "15     Company has responded to the consumer and the ...            8/17/2017   \n",
       "16     Company has responded to the consumer and the ...             5/2/2017   \n",
       "17                                                   NaN            9/29/2016   \n",
       "18     Company disputes the facts presented in the co...             3/2/2017   \n",
       "19                                                   NaN             9/7/2016   \n",
       "20                                                   NaN            2/18/2016   \n",
       "21                                                   NaN             9/8/2017   \n",
       "22                                                   NaN            4/28/2016   \n",
       "23     Company believes complaint is the result of an...            5/19/2016   \n",
       "24                                                   NaN            3/10/2017   \n",
       "25     Company believes it acted appropriately as aut...            6/22/2017   \n",
       "26     Company believes it acted appropriately as aut...            1/31/2016   \n",
       "27                                                   NaN            2/18/2016   \n",
       "28     Company has responded to the consumer and the ...            7/13/2017   \n",
       "29                                                   NaN             6/4/2015   \n",
       "...                                                  ...                  ...   \n",
       "43236  Company has responded to the consumer and the ...           11/18/2016   \n",
       "43237  Company has responded to the consumer and the ...             9/9/2016   \n",
       "43238  Company believes it acted appropriately as aut...            7/31/2015   \n",
       "43239  Company has responded to the consumer and the ...            1/31/2017   \n",
       "43240                                                NaN            1/27/2017   \n",
       "43241                                                NaN            8/11/2016   \n",
       "43242                                                NaN             7/2/2016   \n",
       "43243                                                NaN            4/28/2015   \n",
       "43244                                                NaN            1/12/2016   \n",
       "43245                                                NaN             9/4/2015   \n",
       "43246                                                NaN            7/19/2015   \n",
       "43247                                                NaN            5/28/2016   \n",
       "43248                                                NaN           12/27/2016   \n",
       "43249                                                NaN            7/23/2015   \n",
       "43250                                                NaN            5/20/2016   \n",
       "43251  Company has responded to the consumer and the ...             3/2/2016   \n",
       "43252  Company believes it acted appropriately as aut...            4/21/2017   \n",
       "43253                                                NaN            9/21/2015   \n",
       "43254  Company believes the complaint is the result o...            12/4/2016   \n",
       "43255  Company believes complaint is the result of an...             6/5/2016   \n",
       "43256                                                NaN            9/28/2015   \n",
       "43257                                                NaN             5/1/2015   \n",
       "43258                                                NaN             5/9/2017   \n",
       "43259  Company has responded to the consumer and the ...           11/23/2016   \n",
       "43260  Company has responded to the consumer and the ...            5/10/2017   \n",
       "43261                                                NaN            7/28/2017   \n",
       "43262                                                NaN            1/23/2017   \n",
       "43263                                                NaN            3/13/2017   \n",
       "43264  Company believes complaint is the result of an...            7/15/2017   \n",
       "43265  Company believes it acted appropriately as aut...             6/8/2017   \n",
       "\n",
       "                      Complaint-Status Consumer-disputes  \\\n",
       "0              Closed with explanation               Yes   \n",
       "1      Closed with non-monetary relief                No   \n",
       "2              Closed with explanation                No   \n",
       "3              Closed with explanation                No   \n",
       "4              Closed with explanation                No   \n",
       "5              Closed with explanation               Yes   \n",
       "6              Closed with explanation                No   \n",
       "7              Closed with explanation                No   \n",
       "8              Closed with explanation               Yes   \n",
       "9      Closed with non-monetary relief                No   \n",
       "10             Closed with explanation                No   \n",
       "11             Closed with explanation                No   \n",
       "12     Closed with non-monetary relief                No   \n",
       "13             Closed with explanation                No   \n",
       "14                              Closed                No   \n",
       "15         Closed with monetary relief               NaN   \n",
       "16             Closed with explanation               NaN   \n",
       "17             Closed with explanation                No   \n",
       "18             Closed with explanation                No   \n",
       "19             Closed with explanation                No   \n",
       "20             Closed with explanation                No   \n",
       "21             Closed with explanation               NaN   \n",
       "22             Closed with explanation                No   \n",
       "23             Closed with explanation                No   \n",
       "24             Closed with explanation               Yes   \n",
       "25             Closed with explanation               NaN   \n",
       "26             Closed with explanation               Yes   \n",
       "27             Closed with explanation                No   \n",
       "28             Closed with explanation               NaN   \n",
       "29             Closed with explanation                No   \n",
       "...                                ...               ...   \n",
       "43236      Closed with monetary relief                No   \n",
       "43237          Closed with explanation                No   \n",
       "43238          Closed with explanation                No   \n",
       "43239      Closed with monetary relief                No   \n",
       "43240          Closed with explanation                No   \n",
       "43241          Closed with explanation                No   \n",
       "43242          Closed with explanation                No   \n",
       "43243          Closed with explanation               Yes   \n",
       "43244          Closed with explanation               Yes   \n",
       "43245          Closed with explanation                No   \n",
       "43246          Closed with explanation               Yes   \n",
       "43247          Closed with explanation                No   \n",
       "43248          Closed with explanation               Yes   \n",
       "43249          Closed with explanation                No   \n",
       "43250                           Closed                No   \n",
       "43251  Closed with non-monetary relief                No   \n",
       "43252          Closed with explanation                No   \n",
       "43253          Closed with explanation                No   \n",
       "43254          Closed with explanation               Yes   \n",
       "43255          Closed with explanation                No   \n",
       "43256          Closed with explanation                No   \n",
       "43257          Closed with explanation                No   \n",
       "43258          Closed with explanation               NaN   \n",
       "43259          Closed with explanation               Yes   \n",
       "43260          Closed with explanation               NaN   \n",
       "43261          Closed with explanation               NaN   \n",
       "43262          Closed with explanation                No   \n",
       "43263          Closed with explanation                No   \n",
       "43264          Closed with explanation               NaN   \n",
       "43265          Closed with explanation               NaN   \n",
       "\n",
       "                              Consumer-complaint-summary  \n",
       "0      Seterus, Inc a déposé un faux rapport auprès d...  \n",
       "1      XX / XX / XXXX La requête en faillite n ° XXXX...  \n",
       "2      El XXXX / XXXX / 15, estaba preparando el vuel...  \n",
       "3      The loan was paid in XXXX XXXX. In XXXX, 4 yea...  \n",
       "4      J'ai obtenu un compte de crédit de soins pour ...  \n",
       "5      The owner of my original mortgage filed for ba...  \n",
       "6      J'ai été victime d'une fraude d'identité et j'...  \n",
       "7      Je suis en train de faire faillite et, par con...  \n",
       "8      Una agencia de cobranza me hizo adulterar de q...  \n",
       "9      Le XXXX / XXXX / 2015, j'ai reçu une réponse d...  \n",
       "10     My mortgage provider, United Wholesale Mortgag...  \n",
       "11     My boyfriend and I bought a XXXX sofa and we h...  \n",
       "12     Le XXXX XXXX, XXXX à environ XXXX heures, j’ai...  \n",
       "13     Both accounts below are settled and closed. Yo...  \n",
       "14     In XX / XX / XXXX we open a lease with XXXX DB...  \n",
       "15     I had scheduled a full TIME payment in their o...  \n",
       "16     He llamado a esta compañía muchas veces para i...  \n",
       "17     Todavía veo una deuda con Coast Professional e...  \n",
       "18     Never called or received any written notice of...  \n",
       "19     Cuando disputé con las agencias de crédito, so...  \n",
       "20     The use of the Gap Visa card issued by GE Capi...  \n",
       "21     Equifax a publié mes données via des systèmes ...  \n",
       "22     The mortgage loan was transferred from XXXX to...  \n",
       "23     Tengo menos de 30 días de retraso en mi pago. ...  \n",
       "24     In XX / XX / XXXX I pulled out my Equifax cred...  \n",
       "25     I was surprised when I reviewed my credit repo...  \n",
       "26     Abrí una cuenta de ahorros y cheques para jóve...  \n",
       "27     My XXXX account is up to date, I have been pay...  \n",
       "28     Transunion had a computer failure in which sev...  \n",
       "29     The debt of my wife is in charge, but they cal...  \n",
       "...                                                  ...  \n",
       "43236  My husband and I are in XXXX. I have been doin...  \n",
       "43237  My landlord applied to be approved for a short...  \n",
       "43238  I started a new loan with Wilshire consumer cr...  \n",
       "43239  Je me suis inscrit pour une carte de crédit sa...  \n",
       "43240  J'ai déposé une plainte auprès de CFPB et je d...  \n",
       "43241  J'ai déposé une plainte indiquant que les info...  \n",
       "43242  I sent XXXX XXXX XXXX a letter of validation o...  \n",
       "43243  I own a very small studio in XXXX XXXX, Illino...  \n",
       "43244  We are trying to divide a plot of land located...  \n",
       "43245  XXXX, I submitted documentation for a loan mod...  \n",
       "43246  SKIP TRACING, VARIOUS PLACES, COLLECTORS IN TH...  \n",
       "43247  XXXX complaint, NOT competent action taken fro...  \n",
       "43248  XXXX alias '' XXXX '' shows both in XXXX and i...  \n",
       "43249  The Joseph R. Harrison Company emphasizes that...  \n",
       "43250  I was in the process of selling my house and n...  \n",
       "43251  I have an American Express card from Macy's th...  \n",
       "43252  Cette dette du créancier initial XXXX XXXX XXX...  \n",
       "43253  This debt is eight years old and has not been ...  \n",
       "43254  THE COLLECTOR HAS NOT ADOPTED TO ADMINISTER HI...  \n",
       "43255  I had a mortgage through Greentree (Ditech) an...  \n",
       "43256  I started making extra principle payments to m...  \n",
       "43257  Compré un par de gafas para XXXX XXXX utilizan...  \n",
       "43258  Ils entrent en jugement contre moi et demanden...  \n",
       "43259  Bank of America ha iniciado una acción de ejec...  \n",
       "43260  My problem is with Experian. They continue to ...  \n",
       "43261  J'ai une demande non autorisée de Données fact...  \n",
       "43262  I called the company and they did not want to ...  \n",
       "43263  El prestamista no le proporcionó al cliente ni...  \n",
       "43264  The XXXX XXXX mortgage was transferred to Shel...  \n",
       "43265  This letter is related to account # XXXXXXXXX,...  \n",
       "\n",
       "[43266 rows x 9 columns]>"
      ]
     },
     "execution_count": 3,
     "metadata": {},
     "output_type": "execute_result"
    }
   ],
   "source": [
    "df.info"
   ]
  },
  {
   "cell_type": "code",
   "execution_count": 4,
   "metadata": {},
   "outputs": [
    {
     "data": {
      "text/plain": [
       "Complaint-ID                      0\n",
       "Date-received                     0\n",
       "Transaction-Type                  0\n",
       "Complaint-reason                  0\n",
       "Company-response              22506\n",
       "Date-sent-to-company              0\n",
       "Complaint-Status                  0\n",
       "Consumer-disputes              7698\n",
       "Consumer-complaint-summary        0\n",
       "dtype: int64"
      ]
     },
     "execution_count": 4,
     "metadata": {},
     "output_type": "execute_result"
    }
   ],
   "source": [
    "df.isnull().sum()"
   ]
  },
  {
   "cell_type": "code",
   "execution_count": 5,
   "metadata": {},
   "outputs": [
    {
     "ename": "AttributeError",
     "evalue": "'DataFrame' object has no attribute 'text'",
     "output_type": "error",
     "traceback": [
      "\u001b[1;31m---------------------------------------------------------------------------\u001b[0m",
      "\u001b[1;31mAttributeError\u001b[0m                            Traceback (most recent call last)",
      "\u001b[1;32m<ipython-input-5-a8bf6cf6647d>\u001b[0m in \u001b[0;36m<module>\u001b[1;34m()\u001b[0m\n\u001b[1;32m----> 1\u001b[1;33m \u001b[0mdf\u001b[0m\u001b[1;33m.\u001b[0m\u001b[0mtext\u001b[0m\u001b[1;33m\u001b[0m\u001b[0m\n\u001b[0m",
      "\u001b[1;32mD:\\Anaconda\\lib\\site-packages\\pandas\\core\\generic.py\u001b[0m in \u001b[0;36m__getattr__\u001b[1;34m(self, name)\u001b[0m\n\u001b[0;32m   4370\u001b[0m             \u001b[1;32mif\u001b[0m \u001b[0mself\u001b[0m\u001b[1;33m.\u001b[0m\u001b[0m_info_axis\u001b[0m\u001b[1;33m.\u001b[0m\u001b[0m_can_hold_identifiers_and_holds_name\u001b[0m\u001b[1;33m(\u001b[0m\u001b[0mname\u001b[0m\u001b[1;33m)\u001b[0m\u001b[1;33m:\u001b[0m\u001b[1;33m\u001b[0m\u001b[0m\n\u001b[0;32m   4371\u001b[0m                 \u001b[1;32mreturn\u001b[0m \u001b[0mself\u001b[0m\u001b[1;33m[\u001b[0m\u001b[0mname\u001b[0m\u001b[1;33m]\u001b[0m\u001b[1;33m\u001b[0m\u001b[0m\n\u001b[1;32m-> 4372\u001b[1;33m             \u001b[1;32mreturn\u001b[0m \u001b[0mobject\u001b[0m\u001b[1;33m.\u001b[0m\u001b[0m__getattribute__\u001b[0m\u001b[1;33m(\u001b[0m\u001b[0mself\u001b[0m\u001b[1;33m,\u001b[0m \u001b[0mname\u001b[0m\u001b[1;33m)\u001b[0m\u001b[1;33m\u001b[0m\u001b[0m\n\u001b[0m\u001b[0;32m   4373\u001b[0m \u001b[1;33m\u001b[0m\u001b[0m\n\u001b[0;32m   4374\u001b[0m     \u001b[1;32mdef\u001b[0m \u001b[0m__setattr__\u001b[0m\u001b[1;33m(\u001b[0m\u001b[0mself\u001b[0m\u001b[1;33m,\u001b[0m \u001b[0mname\u001b[0m\u001b[1;33m,\u001b[0m \u001b[0mvalue\u001b[0m\u001b[1;33m)\u001b[0m\u001b[1;33m:\u001b[0m\u001b[1;33m\u001b[0m\u001b[0m\n",
      "\u001b[1;31mAttributeError\u001b[0m: 'DataFrame' object has no attribute 'text'"
     ]
    }
   ],
   "source": [
    "df.text"
   ]
  },
  {
   "cell_type": "code",
   "execution_count": 6,
   "metadata": {
    "scrolled": true
   },
   "outputs": [
    {
     "data": {
      "text/plain": [
       "0        Seterus, Inc a déposé un faux rapport auprès d...\n",
       "1        XX / XX / XXXX La requête en faillite n ° XXXX...\n",
       "2        El XXXX / XXXX / 15, estaba preparando el vuel...\n",
       "3        The loan was paid in XXXX XXXX. In XXXX, 4 yea...\n",
       "4        J'ai obtenu un compte de crédit de soins pour ...\n",
       "5        The owner of my original mortgage filed for ba...\n",
       "6        J'ai été victime d'une fraude d'identité et j'...\n",
       "7        Je suis en train de faire faillite et, par con...\n",
       "8        Una agencia de cobranza me hizo adulterar de q...\n",
       "9        Le XXXX / XXXX / 2015, j'ai reçu une réponse d...\n",
       "10       My mortgage provider, United Wholesale Mortgag...\n",
       "11       My boyfriend and I bought a XXXX sofa and we h...\n",
       "12       Le XXXX XXXX, XXXX à environ XXXX heures, j’ai...\n",
       "13       Both accounts below are settled and closed. Yo...\n",
       "14       In XX / XX / XXXX we open a lease with XXXX DB...\n",
       "15       I had scheduled a full TIME payment in their o...\n",
       "16       He llamado a esta compañía muchas veces para i...\n",
       "17       Todavía veo una deuda con Coast Professional e...\n",
       "18       Never called or received any written notice of...\n",
       "19       Cuando disputé con las agencias de crédito, so...\n",
       "20       The use of the Gap Visa card issued by GE Capi...\n",
       "21       Equifax a publié mes données via des systèmes ...\n",
       "22       The mortgage loan was transferred from XXXX to...\n",
       "23       Tengo menos de 30 días de retraso en mi pago. ...\n",
       "24       In XX / XX / XXXX I pulled out my Equifax cred...\n",
       "25       I was surprised when I reviewed my credit repo...\n",
       "26       Abrí una cuenta de ahorros y cheques para jóve...\n",
       "27       My XXXX account is up to date, I have been pay...\n",
       "28       Transunion had a computer failure in which sev...\n",
       "29       The debt of my wife is in charge, but they cal...\n",
       "                               ...                        \n",
       "43236    My husband and I are in XXXX. I have been doin...\n",
       "43237    My landlord applied to be approved for a short...\n",
       "43238    I started a new loan with Wilshire consumer cr...\n",
       "43239    Je me suis inscrit pour une carte de crédit sa...\n",
       "43240    J'ai déposé une plainte auprès de CFPB et je d...\n",
       "43241    J'ai déposé une plainte indiquant que les info...\n",
       "43242    I sent XXXX XXXX XXXX a letter of validation o...\n",
       "43243    I own a very small studio in XXXX XXXX, Illino...\n",
       "43244    We are trying to divide a plot of land located...\n",
       "43245    XXXX, I submitted documentation for a loan mod...\n",
       "43246    SKIP TRACING, VARIOUS PLACES, COLLECTORS IN TH...\n",
       "43247    XXXX complaint, NOT competent action taken fro...\n",
       "43248    XXXX alias '' XXXX '' shows both in XXXX and i...\n",
       "43249    The Joseph R. Harrison Company emphasizes that...\n",
       "43250    I was in the process of selling my house and n...\n",
       "43251    I have an American Express card from Macy's th...\n",
       "43252    Cette dette du créancier initial XXXX XXXX XXX...\n",
       "43253    This debt is eight years old and has not been ...\n",
       "43254    THE COLLECTOR HAS NOT ADOPTED TO ADMINISTER HI...\n",
       "43255    I had a mortgage through Greentree (Ditech) an...\n",
       "43256    I started making extra principle payments to m...\n",
       "43257    Compré un par de gafas para XXXX XXXX utilizan...\n",
       "43258    Ils entrent en jugement contre moi et demanden...\n",
       "43259    Bank of America ha iniciado una acción de ejec...\n",
       "43260    My problem is with Experian. They continue to ...\n",
       "43261    J'ai une demande non autorisée de Données fact...\n",
       "43262    I called the company and they did not want to ...\n",
       "43263    El prestamista no le proporcionó al cliente ni...\n",
       "43264    The XXXX XXXX mortgage was transferred to Shel...\n",
       "43265    This letter is related to account # XXXXXXXXX,...\n",
       "Name: Consumer-complaint-summary, Length: 43266, dtype: object"
      ]
     },
     "execution_count": 6,
     "metadata": {},
     "output_type": "execute_result"
    }
   ],
   "source": [
    "df['Consumer-complaint-summary']"
   ]
  },
  {
   "cell_type": "code",
   "execution_count": null,
   "metadata": {},
   "outputs": [],
   "source": []
  },
  {
   "cell_type": "code",
   "execution_count": 7,
   "metadata": {},
   "outputs": [],
   "source": [
    "# Fill any blank fields\n",
    "# all_text=df['Consumer-complaint-summary'].fillna(\"\", inplace=True)\n",
    "\n",
    "# Join the title and text\n",
    "# all_text = df.title.str.cat(df.text, sep=' ')\n",
    "\n",
    "# Tokenize using nltk\n",
    "words = nltk.word_tokenize(\" \".join(df['Consumer-complaint-summary'].tolist()))"
   ]
  },
  {
   "cell_type": "code",
   "execution_count": 8,
   "metadata": {},
   "outputs": [
    {
     "data": {
      "text/plain": [
       "9293734"
      ]
     },
     "execution_count": 8,
     "metadata": {},
     "output_type": "execute_result"
    }
   ],
   "source": [
    "len(words)"
   ]
  },
  {
   "cell_type": "code",
   "execution_count": 9,
   "metadata": {},
   "outputs": [
    {
     "name": "stdout",
     "output_type": "stream",
     "text": [
      "[('XXXX', 391671), ('.', 388421), (',', 295657), ('the', 250426), ('I', 199642), ('de', 169060), ('to', 163347), ('a', 153220), ('and', 142593), ('that', 117835)]\n"
     ]
    }
   ],
   "source": [
    "from collections import Counter\n",
    "w=Counter(words)\n",
    "print(w.most_common(10))"
   ]
  },
  {
   "cell_type": "code",
   "execution_count": 10,
   "metadata": {},
   "outputs": [],
   "source": [
    "from nltk.corpus import stopwords\n",
    "import string\n",
    "\n",
    "stop = stopwords.words('english') \n",
    "cleanwords = [i for i in words if i not in stop and i.isalpha() and len(i) > 2]"
   ]
  },
  {
   "cell_type": "code",
   "execution_count": 11,
   "metadata": {},
   "outputs": [
    {
     "data": {
      "text/plain": [
       "4564186"
      ]
     },
     "execution_count": 11,
     "metadata": {},
     "output_type": "execute_result"
    }
   ],
   "source": [
    "len(cleanwords)"
   ]
  },
  {
   "cell_type": "code",
   "execution_count": 12,
   "metadata": {},
   "outputs": [
    {
     "name": "stdout",
     "output_type": "stream",
     "text": [
      "[('XXXX', 391671), ('que', 92236), ('credit', 34450), ('account', 32246), ('The', 22305), ('payment', 20708), ('una', 20012), ('would', 18307), ('les', 17519), ('loan', 17489)]\n"
     ]
    }
   ],
   "source": [
    "w=Counter(cleanwords)\n",
    "print(w.most_common(10))"
   ]
  },
  {
   "cell_type": "code",
   "execution_count": 13,
   "metadata": {},
   "outputs": [
    {
     "name": "stdout",
     "output_type": "stream",
     "text": [
      "[(('XXXX', 'XXXX'), 177114), (('credit', 'report'), 8957), (('Wells', 'Fargo'), 5369), (('credit', 'card'), 4775), (('Bank', 'America'), 3828), (('XXXX', 'The'), 3235), (('XXXX', 'que'), 2805), (('informe', 'crédito'), 2745), (('mon', 'compte'), 2703), (('account', 'XXXX'), 2561)]\n"
     ]
    }
   ],
   "source": [
    "bigrams = nltk.bigrams(cleanwords)\n",
    "counter = Counter(bigrams)\n",
    "print(counter.most_common(10))"
   ]
  },
  {
   "cell_type": "code",
   "execution_count": 15,
   "metadata": {},
   "outputs": [
    {
     "data": {
      "text/plain": [
       "18"
      ]
     },
     "execution_count": 15,
     "metadata": {},
     "output_type": "execute_result"
    }
   ],
   "source": [
    "df['Transaction-Type'].nunique()"
   ]
  },
  {
   "cell_type": "code",
   "execution_count": 37,
   "metadata": {
    "scrolled": true
   },
   "outputs": [],
   "source": [
    "d1 = [pd.get_dummies(df['Transaction-Type'])]"
   ]
  },
  {
   "cell_type": "code",
   "execution_count": 38,
   "metadata": {},
   "outputs": [],
   "source": [
    "d2 = [pd.get_dummies(df['Complaint-reason'])]\n"
   ]
  },
  {
   "cell_type": "code",
   "execution_count": 45,
   "metadata": {},
   "outputs": [],
   "source": [
    "d3 = [pd.get_dummies(df['Company-response'])]"
   ]
  },
  {
   "cell_type": "code",
   "execution_count": 46,
   "metadata": {},
   "outputs": [],
   "source": [
    "d4 = [pd.get_dummies(df['Consumer-disputes'])]"
   ]
  },
  {
   "cell_type": "code",
   "execution_count": null,
   "metadata": {},
   "outputs": [],
   "source": []
  },
  {
   "cell_type": "code",
   "execution_count": 48,
   "metadata": {},
   "outputs": [
    {
     "ename": "TypeError",
     "evalue": "concat() got multiple values for argument 'axis'",
     "output_type": "error",
     "traceback": [
      "\u001b[1;31m---------------------------------------------------------------------------\u001b[0m",
      "\u001b[1;31mTypeError\u001b[0m                                 Traceback (most recent call last)",
      "\u001b[1;32m<ipython-input-48-1b230cb5d5c3>\u001b[0m in \u001b[0;36m<module>\u001b[1;34m()\u001b[0m\n\u001b[1;32m----> 1\u001b[1;33m \u001b[0mdf_1\u001b[0m\u001b[1;33m=\u001b[0m\u001b[0mpd\u001b[0m\u001b[1;33m.\u001b[0m\u001b[0mconcat\u001b[0m\u001b[1;33m(\u001b[0m\u001b[0md1\u001b[0m\u001b[1;33m,\u001b[0m\u001b[0md2\u001b[0m\u001b[1;33m,\u001b[0m\u001b[0md3\u001b[0m\u001b[1;33m,\u001b[0m\u001b[0md4\u001b[0m\u001b[1;33m,\u001b[0m\u001b[0maxis\u001b[0m\u001b[1;33m=\u001b[0m\u001b[1;36m0\u001b[0m\u001b[1;33m)\u001b[0m\u001b[1;33m\u001b[0m\u001b[0m\n\u001b[0m",
      "\u001b[1;31mTypeError\u001b[0m: concat() got multiple values for argument 'axis'"
     ]
    }
   ],
   "source": [
    "df_1=pd.concat(d1,d2,d3,d4,axis=0)"
   ]
  },
  {
   "cell_type": "code",
   "execution_count": 49,
   "metadata": {},
   "outputs": [],
   "source": [
    "y=df['Complaint-Status']"
   ]
  },
  {
   "cell_type": "code",
   "execution_count": 50,
   "metadata": {},
   "outputs": [],
   "source": [
    "X_train, X_test, y_train, y_test = train_test_split(df['Consumer-complaint-summary'], y, test_size=0.33, random_state=53)"
   ]
  },
  {
   "cell_type": "code",
   "execution_count": 51,
   "metadata": {},
   "outputs": [],
   "source": [
    "count_vectorizer = CountVectorizer(stop_words='english')\n",
    "count_train = count_vectorizer.fit_transform(X_train)\n",
    "count_test = count_vectorizer.transform(X_test)"
   ]
  },
  {
   "cell_type": "code",
   "execution_count": 52,
   "metadata": {},
   "outputs": [
    {
     "data": {
      "text/plain": [
       "['00', '000', '0000', '0001', '000k', '000xx', '001', '002', '0054', '0077']"
      ]
     },
     "execution_count": 52,
     "metadata": {},
     "output_type": "execute_result"
    }
   ],
   "source": [
    "count_vectorizer.get_feature_names()[:10]"
   ]
  },
  {
   "cell_type": "code",
   "execution_count": 54,
   "metadata": {
    "scrolled": true
   },
   "outputs": [
    {
     "ename": "MemoryError",
     "evalue": "",
     "output_type": "error",
     "traceback": [
      "\u001b[1;31m---------------------------------------------------------------------------\u001b[0m",
      "\u001b[1;31mMemoryError\u001b[0m                               Traceback (most recent call last)",
      "\u001b[1;32m<ipython-input-54-434c26921306>\u001b[0m in \u001b[0;36m<module>\u001b[1;34m()\u001b[0m\n\u001b[1;32m----> 1\u001b[1;33m \u001b[0mcount_df\u001b[0m \u001b[1;33m=\u001b[0m \u001b[0mpd\u001b[0m\u001b[1;33m.\u001b[0m\u001b[0mDataFrame\u001b[0m\u001b[1;33m(\u001b[0m\u001b[0mcount_train\u001b[0m\u001b[1;33m.\u001b[0m\u001b[0mA\u001b[0m\u001b[1;33m,\u001b[0m \u001b[0mcolumns\u001b[0m\u001b[1;33m=\u001b[0m\u001b[0mcount_vectorizer\u001b[0m\u001b[1;33m.\u001b[0m\u001b[0mget_feature_names\u001b[0m\u001b[1;33m(\u001b[0m\u001b[1;33m)\u001b[0m\u001b[1;33m)\u001b[0m\u001b[1;33m\u001b[0m\u001b[0m\n\u001b[0m\u001b[0;32m      2\u001b[0m \u001b[0mcount_df\u001b[0m\u001b[1;33m.\u001b[0m\u001b[0mhead\u001b[0m\u001b[1;33m(\u001b[0m\u001b[1;36m10\u001b[0m\u001b[1;33m)\u001b[0m\u001b[1;33m\u001b[0m\u001b[0m\n",
      "\u001b[1;32mD:\\Anaconda\\lib\\site-packages\\scipy\\sparse\\base.py\u001b[0m in \u001b[0;36m__getattr__\u001b[1;34m(self, attr)\u001b[0m\n\u001b[0;32m    672\u001b[0m     \u001b[1;32mdef\u001b[0m \u001b[0m__getattr__\u001b[0m\u001b[1;33m(\u001b[0m\u001b[0mself\u001b[0m\u001b[1;33m,\u001b[0m \u001b[0mattr\u001b[0m\u001b[1;33m)\u001b[0m\u001b[1;33m:\u001b[0m\u001b[1;33m\u001b[0m\u001b[0m\n\u001b[0;32m    673\u001b[0m         \u001b[1;32mif\u001b[0m \u001b[0mattr\u001b[0m \u001b[1;33m==\u001b[0m \u001b[1;34m'A'\u001b[0m\u001b[1;33m:\u001b[0m\u001b[1;33m\u001b[0m\u001b[0m\n\u001b[1;32m--> 674\u001b[1;33m             \u001b[1;32mreturn\u001b[0m \u001b[0mself\u001b[0m\u001b[1;33m.\u001b[0m\u001b[0mtoarray\u001b[0m\u001b[1;33m(\u001b[0m\u001b[1;33m)\u001b[0m\u001b[1;33m\u001b[0m\u001b[0m\n\u001b[0m\u001b[0;32m    675\u001b[0m         \u001b[1;32melif\u001b[0m \u001b[0mattr\u001b[0m \u001b[1;33m==\u001b[0m \u001b[1;34m'T'\u001b[0m\u001b[1;33m:\u001b[0m\u001b[1;33m\u001b[0m\u001b[0m\n\u001b[0;32m    676\u001b[0m             \u001b[1;32mreturn\u001b[0m \u001b[0mself\u001b[0m\u001b[1;33m.\u001b[0m\u001b[0mtranspose\u001b[0m\u001b[1;33m(\u001b[0m\u001b[1;33m)\u001b[0m\u001b[1;33m\u001b[0m\u001b[0m\n",
      "\u001b[1;32mD:\\Anaconda\\lib\\site-packages\\scipy\\sparse\\compressed.py\u001b[0m in \u001b[0;36mtoarray\u001b[1;34m(self, order, out)\u001b[0m\n\u001b[0;32m    945\u001b[0m         \u001b[1;32mif\u001b[0m \u001b[0mout\u001b[0m \u001b[1;32mis\u001b[0m \u001b[1;32mNone\u001b[0m \u001b[1;32mand\u001b[0m \u001b[0morder\u001b[0m \u001b[1;32mis\u001b[0m \u001b[1;32mNone\u001b[0m\u001b[1;33m:\u001b[0m\u001b[1;33m\u001b[0m\u001b[0m\n\u001b[0;32m    946\u001b[0m             \u001b[0morder\u001b[0m \u001b[1;33m=\u001b[0m \u001b[0mself\u001b[0m\u001b[1;33m.\u001b[0m\u001b[0m_swap\u001b[0m\u001b[1;33m(\u001b[0m\u001b[1;34m'cf'\u001b[0m\u001b[1;33m)\u001b[0m\u001b[1;33m[\u001b[0m\u001b[1;36m0\u001b[0m\u001b[1;33m]\u001b[0m\u001b[1;33m\u001b[0m\u001b[0m\n\u001b[1;32m--> 947\u001b[1;33m         \u001b[0mout\u001b[0m \u001b[1;33m=\u001b[0m \u001b[0mself\u001b[0m\u001b[1;33m.\u001b[0m\u001b[0m_process_toarray_args\u001b[0m\u001b[1;33m(\u001b[0m\u001b[0morder\u001b[0m\u001b[1;33m,\u001b[0m \u001b[0mout\u001b[0m\u001b[1;33m)\u001b[0m\u001b[1;33m\u001b[0m\u001b[0m\n\u001b[0m\u001b[0;32m    948\u001b[0m         \u001b[1;32mif\u001b[0m \u001b[1;32mnot\u001b[0m \u001b[1;33m(\u001b[0m\u001b[0mout\u001b[0m\u001b[1;33m.\u001b[0m\u001b[0mflags\u001b[0m\u001b[1;33m.\u001b[0m\u001b[0mc_contiguous\u001b[0m \u001b[1;32mor\u001b[0m \u001b[0mout\u001b[0m\u001b[1;33m.\u001b[0m\u001b[0mflags\u001b[0m\u001b[1;33m.\u001b[0m\u001b[0mf_contiguous\u001b[0m\u001b[1;33m)\u001b[0m\u001b[1;33m:\u001b[0m\u001b[1;33m\u001b[0m\u001b[0m\n\u001b[0;32m    949\u001b[0m             \u001b[1;32mraise\u001b[0m \u001b[0mValueError\u001b[0m\u001b[1;33m(\u001b[0m\u001b[1;34m'Output array must be C or F contiguous'\u001b[0m\u001b[1;33m)\u001b[0m\u001b[1;33m\u001b[0m\u001b[0m\n",
      "\u001b[1;32mD:\\Anaconda\\lib\\site-packages\\scipy\\sparse\\base.py\u001b[0m in \u001b[0;36m_process_toarray_args\u001b[1;34m(self, order, out)\u001b[0m\n\u001b[0;32m   1182\u001b[0m             \u001b[1;32mreturn\u001b[0m \u001b[0mout\u001b[0m\u001b[1;33m\u001b[0m\u001b[0m\n\u001b[0;32m   1183\u001b[0m         \u001b[1;32melse\u001b[0m\u001b[1;33m:\u001b[0m\u001b[1;33m\u001b[0m\u001b[0m\n\u001b[1;32m-> 1184\u001b[1;33m             \u001b[1;32mreturn\u001b[0m \u001b[0mnp\u001b[0m\u001b[1;33m.\u001b[0m\u001b[0mzeros\u001b[0m\u001b[1;33m(\u001b[0m\u001b[0mself\u001b[0m\u001b[1;33m.\u001b[0m\u001b[0mshape\u001b[0m\u001b[1;33m,\u001b[0m \u001b[0mdtype\u001b[0m\u001b[1;33m=\u001b[0m\u001b[0mself\u001b[0m\u001b[1;33m.\u001b[0m\u001b[0mdtype\u001b[0m\u001b[1;33m,\u001b[0m \u001b[0morder\u001b[0m\u001b[1;33m=\u001b[0m\u001b[0morder\u001b[0m\u001b[1;33m)\u001b[0m\u001b[1;33m\u001b[0m\u001b[0m\n\u001b[0m\u001b[0;32m   1185\u001b[0m \u001b[1;33m\u001b[0m\u001b[0m\n\u001b[0;32m   1186\u001b[0m \u001b[1;33m\u001b[0m\u001b[0m\n",
      "\u001b[1;31mMemoryError\u001b[0m: "
     ]
    }
   ],
   "source": [
    "count_df = pd.DataFrame(count_train.A, columns=count_vectorizer.get_feature_names())\n",
    "count_df.head(10) "
   ]
  },
  {
   "cell_type": "code",
   "execution_count": null,
   "metadata": {},
   "outputs": [],
   "source": []
  }
 ],
 "metadata": {
  "kernelspec": {
   "display_name": "Python 3",
   "language": "python",
   "name": "python3"
  },
  "language_info": {
   "codemirror_mode": {
    "name": "ipython",
    "version": 3
   },
   "file_extension": ".py",
   "mimetype": "text/x-python",
   "name": "python",
   "nbconvert_exporter": "python",
   "pygments_lexer": "ipython3",
   "version": "3.6.5"
  }
 },
 "nbformat": 4,
 "nbformat_minor": 2
}
