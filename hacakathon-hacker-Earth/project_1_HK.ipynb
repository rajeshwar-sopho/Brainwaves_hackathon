{
 "cells": [
  {
   "cell_type": "code",
   "execution_count": 1,
   "metadata": {
    "colab": {},
    "colab_type": "code",
    "id": "wkC0kNzTwwA2"
   },
   "outputs": [],
   "source": [
    "import pandas as pd\n",
    "import numpy as np\n",
    "import matplotlib.pyplot as plt\n",
    "import itertools\n",
    "from sklearn.feature_extraction.text import CountVectorizer, TfidfVectorizer, HashingVectorizer\n",
    "from sklearn.model_selection import train_test_split\n",
    "from sklearn.linear_model import PassiveAggressiveClassifier\n",
    "from sklearn.naive_bayes import MultinomialNB\n",
    "from sklearn import metrics\n",
    "import seaborn as sns\n",
    "%matplotlib inline\n",
    "#%matplotlib notebook\n",
    "import nltk\n",
    "import gensim\n",
    "# import spacy\n",
    "from sklearn.svm import SVC\n",
    "# for accuracy mertic\n",
    "from sklearn.metrics import accuracy_score\n",
    "from sklearn.model_selection import GridSearchCV"
   ]
  },
  {
   "cell_type": "code",
   "execution_count": 2,
   "metadata": {
    "colab": {
     "base_uri": "https://localhost:8080/",
     "height": 546
    },
    "colab_type": "code",
    "id": "D_uZqfqLxDWm",
    "outputId": "5a1648f5-f68d-492e-c8b3-8d17ffa1da14"
   },
   "outputs": [
    {
     "data": {
      "text/html": [
       "<div>\n",
       "<style scoped>\n",
       "    .dataframe tbody tr th:only-of-type {\n",
       "        vertical-align: middle;\n",
       "    }\n",
       "\n",
       "    .dataframe tbody tr th {\n",
       "        vertical-align: top;\n",
       "    }\n",
       "\n",
       "    .dataframe thead th {\n",
       "        text-align: right;\n",
       "    }\n",
       "</style>\n",
       "<table border=\"1\" class=\"dataframe\">\n",
       "  <thead>\n",
       "    <tr style=\"text-align: right;\">\n",
       "      <th></th>\n",
       "      <th>Complaint-ID</th>\n",
       "      <th>Date-received</th>\n",
       "      <th>Transaction-Type</th>\n",
       "      <th>Complaint-reason</th>\n",
       "      <th>Company-response</th>\n",
       "      <th>Date-sent-to-company</th>\n",
       "      <th>Complaint-Status</th>\n",
       "      <th>Consumer-disputes</th>\n",
       "      <th>Consumer-complaint-summary</th>\n",
       "    </tr>\n",
       "  </thead>\n",
       "  <tbody>\n",
       "    <tr>\n",
       "      <th>0</th>\n",
       "      <td>Tr-1</td>\n",
       "      <td>11/11/2015</td>\n",
       "      <td>Mortgage</td>\n",
       "      <td>Loan servicing, payments, escrow account</td>\n",
       "      <td>NaN</td>\n",
       "      <td>11/11/2015</td>\n",
       "      <td>Closed with explanation</td>\n",
       "      <td>Yes</td>\n",
       "      <td>Seterus, Inc a déposé un faux rapport auprès d...</td>\n",
       "    </tr>\n",
       "    <tr>\n",
       "      <th>1</th>\n",
       "      <td>Tr-2</td>\n",
       "      <td>7/7/2015</td>\n",
       "      <td>Credit reporting</td>\n",
       "      <td>Incorrect information on credit report</td>\n",
       "      <td>Company chooses not to provide a public response</td>\n",
       "      <td>7/7/2015</td>\n",
       "      <td>Closed with non-monetary relief</td>\n",
       "      <td>No</td>\n",
       "      <td>XX / XX / XXXX La requête en faillite n ° XXXX...</td>\n",
       "    </tr>\n",
       "    <tr>\n",
       "      <th>2</th>\n",
       "      <td>Tr-3</td>\n",
       "      <td>5/7/2015</td>\n",
       "      <td>Bank account or service</td>\n",
       "      <td>Using a debit or ATM card</td>\n",
       "      <td>NaN</td>\n",
       "      <td>5/7/2015</td>\n",
       "      <td>Closed with explanation</td>\n",
       "      <td>No</td>\n",
       "      <td>El XXXX / XXXX / 15, estaba preparando el vuel...</td>\n",
       "    </tr>\n",
       "    <tr>\n",
       "      <th>3</th>\n",
       "      <td>Tr-4</td>\n",
       "      <td>11/12/2016</td>\n",
       "      <td>Debt collection</td>\n",
       "      <td>Cont'd attempts collect debt not owed</td>\n",
       "      <td>Company believes it acted appropriately as aut...</td>\n",
       "      <td>11/12/2016</td>\n",
       "      <td>Closed with explanation</td>\n",
       "      <td>No</td>\n",
       "      <td>The loan was paid in XXXX XXXX. In XXXX, 4 yea...</td>\n",
       "    </tr>\n",
       "    <tr>\n",
       "      <th>4</th>\n",
       "      <td>Tr-5</td>\n",
       "      <td>9/29/2016</td>\n",
       "      <td>Credit card</td>\n",
       "      <td>Payoff process</td>\n",
       "      <td>Company has responded to the consumer and the ...</td>\n",
       "      <td>9/29/2016</td>\n",
       "      <td>Closed with explanation</td>\n",
       "      <td>No</td>\n",
       "      <td>J'ai obtenu un compte de crédit de soins pour ...</td>\n",
       "    </tr>\n",
       "    <tr>\n",
       "      <th>5</th>\n",
       "      <td>Tr-6</td>\n",
       "      <td>8/2/2016</td>\n",
       "      <td>Mortgage</td>\n",
       "      <td>Loan modification,collection,foreclosure</td>\n",
       "      <td>NaN</td>\n",
       "      <td>8/3/2016</td>\n",
       "      <td>Closed with explanation</td>\n",
       "      <td>Yes</td>\n",
       "      <td>The owner of my original mortgage filed for ba...</td>\n",
       "    </tr>\n",
       "    <tr>\n",
       "      <th>6</th>\n",
       "      <td>Tr-7</td>\n",
       "      <td>3/26/2017</td>\n",
       "      <td>Credit reporting</td>\n",
       "      <td>Incorrect information on credit report</td>\n",
       "      <td>NaN</td>\n",
       "      <td>3/26/2017</td>\n",
       "      <td>Closed with explanation</td>\n",
       "      <td>No</td>\n",
       "      <td>J'ai été victime d'une fraude d'identité et j'...</td>\n",
       "    </tr>\n",
       "    <tr>\n",
       "      <th>7</th>\n",
       "      <td>Tr-8</td>\n",
       "      <td>10/15/2016</td>\n",
       "      <td>Bank account or service</td>\n",
       "      <td>Problems caused by my funds being low</td>\n",
       "      <td>Company has responded to the consumer and the ...</td>\n",
       "      <td>10/15/2016</td>\n",
       "      <td>Closed with explanation</td>\n",
       "      <td>No</td>\n",
       "      <td>Je suis en train de faire faillite et, par con...</td>\n",
       "    </tr>\n",
       "    <tr>\n",
       "      <th>8</th>\n",
       "      <td>Tr-9</td>\n",
       "      <td>1/18/2016</td>\n",
       "      <td>Debt collection</td>\n",
       "      <td>Cont'd attempts collect debt not owed</td>\n",
       "      <td>NaN</td>\n",
       "      <td>1/18/2016</td>\n",
       "      <td>Closed with explanation</td>\n",
       "      <td>Yes</td>\n",
       "      <td>Una agencia de cobranza me hizo adulterar de q...</td>\n",
       "    </tr>\n",
       "    <tr>\n",
       "      <th>9</th>\n",
       "      <td>Tr-10</td>\n",
       "      <td>8/17/2015</td>\n",
       "      <td>Credit reporting</td>\n",
       "      <td>Incorrect information on credit report</td>\n",
       "      <td>Company chooses not to provide a public response</td>\n",
       "      <td>8/17/2015</td>\n",
       "      <td>Closed with non-monetary relief</td>\n",
       "      <td>No</td>\n",
       "      <td>Le XXXX / XXXX / 2015, j'ai reçu une réponse d...</td>\n",
       "    </tr>\n",
       "  </tbody>\n",
       "</table>\n",
       "</div>"
      ],
      "text/plain": [
       "  Complaint-ID Date-received         Transaction-Type  \\\n",
       "0         Tr-1    11/11/2015                 Mortgage   \n",
       "1         Tr-2      7/7/2015         Credit reporting   \n",
       "2         Tr-3      5/7/2015  Bank account or service   \n",
       "3         Tr-4    11/12/2016          Debt collection   \n",
       "4         Tr-5     9/29/2016              Credit card   \n",
       "5         Tr-6      8/2/2016                 Mortgage   \n",
       "6         Tr-7     3/26/2017         Credit reporting   \n",
       "7         Tr-8    10/15/2016  Bank account or service   \n",
       "8         Tr-9     1/18/2016          Debt collection   \n",
       "9        Tr-10     8/17/2015         Credit reporting   \n",
       "\n",
       "                           Complaint-reason  \\\n",
       "0  Loan servicing, payments, escrow account   \n",
       "1    Incorrect information on credit report   \n",
       "2                 Using a debit or ATM card   \n",
       "3     Cont'd attempts collect debt not owed   \n",
       "4                            Payoff process   \n",
       "5  Loan modification,collection,foreclosure   \n",
       "6    Incorrect information on credit report   \n",
       "7     Problems caused by my funds being low   \n",
       "8     Cont'd attempts collect debt not owed   \n",
       "9    Incorrect information on credit report   \n",
       "\n",
       "                                    Company-response Date-sent-to-company  \\\n",
       "0                                                NaN           11/11/2015   \n",
       "1   Company chooses not to provide a public response             7/7/2015   \n",
       "2                                                NaN             5/7/2015   \n",
       "3  Company believes it acted appropriately as aut...           11/12/2016   \n",
       "4  Company has responded to the consumer and the ...            9/29/2016   \n",
       "5                                                NaN             8/3/2016   \n",
       "6                                                NaN            3/26/2017   \n",
       "7  Company has responded to the consumer and the ...           10/15/2016   \n",
       "8                                                NaN            1/18/2016   \n",
       "9   Company chooses not to provide a public response            8/17/2015   \n",
       "\n",
       "                  Complaint-Status Consumer-disputes  \\\n",
       "0          Closed with explanation               Yes   \n",
       "1  Closed with non-monetary relief                No   \n",
       "2          Closed with explanation                No   \n",
       "3          Closed with explanation                No   \n",
       "4          Closed with explanation                No   \n",
       "5          Closed with explanation               Yes   \n",
       "6          Closed with explanation                No   \n",
       "7          Closed with explanation                No   \n",
       "8          Closed with explanation               Yes   \n",
       "9  Closed with non-monetary relief                No   \n",
       "\n",
       "                          Consumer-complaint-summary  \n",
       "0  Seterus, Inc a déposé un faux rapport auprès d...  \n",
       "1  XX / XX / XXXX La requête en faillite n ° XXXX...  \n",
       "2  El XXXX / XXXX / 15, estaba preparando el vuel...  \n",
       "3  The loan was paid in XXXX XXXX. In XXXX, 4 yea...  \n",
       "4  J'ai obtenu un compte de crédit de soins pour ...  \n",
       "5  The owner of my original mortgage filed for ba...  \n",
       "6  J'ai été victime d'une fraude d'identité et j'...  \n",
       "7  Je suis en train de faire faillite et, par con...  \n",
       "8  Una agencia de cobranza me hizo adulterar de q...  \n",
       "9  Le XXXX / XXXX / 2015, j'ai reçu une réponse d...  "
      ]
     },
     "execution_count": 2,
     "metadata": {},
     "output_type": "execute_result"
    }
   ],
   "source": [
    "df=pd.read_csv('train.csv')\n",
    "df.head(10)"
   ]
  },
  {
   "cell_type": "code",
   "execution_count": 3,
   "metadata": {
    "colab": {
     "base_uri": "https://localhost:8080/",
     "height": 35
    },
    "colab_type": "code",
    "id": "aFOklvhm1fjs",
    "outputId": "c9209dcc-9213-4a02-fd07-1a9ad0cd313a"
   },
   "outputs": [
    {
     "data": {
      "text/plain": [
       "(43266, 9)"
      ]
     },
     "execution_count": 3,
     "metadata": {},
     "output_type": "execute_result"
    }
   ],
   "source": [
    "df.shape"
   ]
  },
  {
   "cell_type": "code",
   "execution_count": 6,
   "metadata": {
    "colab": {
     "base_uri": "https://localhost:8080/",
     "height": 207
    },
    "colab_type": "code",
    "id": "hPrUwDOoxZY-",
    "outputId": "692aca1b-7d7b-4d4d-a3dd-cdd7a48a2312"
   },
   "outputs": [
    {
     "data": {
      "text/html": [
       "<div>\n",
       "<style scoped>\n",
       "    .dataframe tbody tr th:only-of-type {\n",
       "        vertical-align: middle;\n",
       "    }\n",
       "\n",
       "    .dataframe tbody tr th {\n",
       "        vertical-align: top;\n",
       "    }\n",
       "\n",
       "    .dataframe thead th {\n",
       "        text-align: right;\n",
       "    }\n",
       "</style>\n",
       "<table border=\"1\" class=\"dataframe\">\n",
       "  <thead>\n",
       "    <tr style=\"text-align: right;\">\n",
       "      <th></th>\n",
       "      <th>Complaint-ID</th>\n",
       "      <th>Date-received</th>\n",
       "      <th>Transaction-Type</th>\n",
       "      <th>Complaint-reason</th>\n",
       "      <th>Company-response</th>\n",
       "      <th>Date-sent-to-company</th>\n",
       "      <th>Complaint-Status</th>\n",
       "      <th>Consumer-disputes</th>\n",
       "      <th>Consumer-complaint-summary</th>\n",
       "    </tr>\n",
       "  </thead>\n",
       "  <tbody>\n",
       "    <tr>\n",
       "      <th>count</th>\n",
       "      <td>43266</td>\n",
       "      <td>43266</td>\n",
       "      <td>43266</td>\n",
       "      <td>43266</td>\n",
       "      <td>20760</td>\n",
       "      <td>43266</td>\n",
       "      <td>43266</td>\n",
       "      <td>35568</td>\n",
       "      <td>43266</td>\n",
       "    </tr>\n",
       "    <tr>\n",
       "      <th>unique</th>\n",
       "      <td>43266</td>\n",
       "      <td>920</td>\n",
       "      <td>18</td>\n",
       "      <td>150</td>\n",
       "      <td>10</td>\n",
       "      <td>930</td>\n",
       "      <td>5</td>\n",
       "      <td>2</td>\n",
       "      <td>43022</td>\n",
       "    </tr>\n",
       "    <tr>\n",
       "      <th>top</th>\n",
       "      <td>Tr-14981</td>\n",
       "      <td>1/19/2017</td>\n",
       "      <td>Debt collection</td>\n",
       "      <td>Incorrect information on credit report</td>\n",
       "      <td>Company has responded to the consumer and the ...</td>\n",
       "      <td>1/19/2017</td>\n",
       "      <td>Closed with explanation</td>\n",
       "      <td>No</td>\n",
       "      <td>Equifax mishandled my information, which has l...</td>\n",
       "    </tr>\n",
       "    <tr>\n",
       "      <th>freq</th>\n",
       "      <td>1</td>\n",
       "      <td>226</td>\n",
       "      <td>10422</td>\n",
       "      <td>4466</td>\n",
       "      <td>10928</td>\n",
       "      <td>182</td>\n",
       "      <td>34300</td>\n",
       "      <td>27663</td>\n",
       "      <td>13</td>\n",
       "    </tr>\n",
       "  </tbody>\n",
       "</table>\n",
       "</div>"
      ],
      "text/plain": [
       "       Complaint-ID Date-received Transaction-Type  \\\n",
       "count         43266         43266            43266   \n",
       "unique        43266           920               18   \n",
       "top        Tr-14981     1/19/2017  Debt collection   \n",
       "freq              1           226            10422   \n",
       "\n",
       "                              Complaint-reason  \\\n",
       "count                                    43266   \n",
       "unique                                     150   \n",
       "top     Incorrect information on credit report   \n",
       "freq                                      4466   \n",
       "\n",
       "                                         Company-response  \\\n",
       "count                                               20760   \n",
       "unique                                                 10   \n",
       "top     Company has responded to the consumer and the ...   \n",
       "freq                                                10928   \n",
       "\n",
       "       Date-sent-to-company         Complaint-Status Consumer-disputes  \\\n",
       "count                 43266                    43266             35568   \n",
       "unique                  930                        5                 2   \n",
       "top               1/19/2017  Closed with explanation                No   \n",
       "freq                    182                    34300             27663   \n",
       "\n",
       "                               Consumer-complaint-summary  \n",
       "count                                               43266  \n",
       "unique                                              43022  \n",
       "top     Equifax mishandled my information, which has l...  \n",
       "freq                                                   13  "
      ]
     },
     "execution_count": 6,
     "metadata": {},
     "output_type": "execute_result"
    }
   ],
   "source": [
    "df.describe()"
   ]
  },
  {
   "cell_type": "code",
   "execution_count": 7,
   "metadata": {
    "colab": {
     "base_uri": "https://localhost:8080/",
     "height": 197
    },
    "colab_type": "code",
    "id": "9DjKIHhRxe5B",
    "outputId": "b9e53547-8038-46ed-a7c8-d77433427386"
   },
   "outputs": [
    {
     "data": {
      "text/plain": [
       "Complaint-ID                      0\n",
       "Date-received                     0\n",
       "Transaction-Type                  0\n",
       "Complaint-reason                  0\n",
       "Company-response              22506\n",
       "Date-sent-to-company              0\n",
       "Complaint-Status                  0\n",
       "Consumer-disputes              7698\n",
       "Consumer-complaint-summary        0\n",
       "dtype: int64"
      ]
     },
     "execution_count": 7,
     "metadata": {},
     "output_type": "execute_result"
    }
   ],
   "source": [
    "df.isnull().sum()"
   ]
  },
  {
   "cell_type": "code",
   "execution_count": 8,
   "metadata": {
    "colab": {},
    "colab_type": "code",
    "id": "_KqtQ_XDxhhp"
   },
   "outputs": [],
   "source": [
    "# df.dropna(inplace=True)"
   ]
  },
  {
   "cell_type": "code",
   "execution_count": 9,
   "metadata": {
    "colab": {
     "base_uri": "https://localhost:8080/",
     "height": 35
    },
    "colab_type": "code",
    "id": "2BJhI3PJ6IfN",
    "outputId": "2409a582-1a7b-4a48-d64f-8555754f6846"
   },
   "outputs": [
    {
     "data": {
      "text/plain": [
       "(16961, 9)"
      ]
     },
     "execution_count": 9,
     "metadata": {},
     "output_type": "execute_result"
    }
   ],
   "source": [
    "df.shape"
   ]
  },
  {
   "cell_type": "code",
   "execution_count": 4,
   "metadata": {
    "colab": {},
    "colab_type": "code",
    "id": "G1FF9vycxj7E"
   },
   "outputs": [],
   "source": [
    "df.drop(columns=['Date-received', 'Date-sent-to-company','Complaint-ID'], axis=1, inplace=True)"
   ]
  },
  {
   "cell_type": "code",
   "execution_count": 5,
   "metadata": {
    "colab": {
     "base_uri": "https://localhost:8080/",
     "height": 143
    },
    "colab_type": "code",
    "id": "_fDxln0HxhcB",
    "outputId": "39e32145-c1d5-45bc-e6f4-e1b5a17a2e67"
   },
   "outputs": [
    {
     "name": "stderr",
     "output_type": "stream",
     "text": [
      "[nltk_data] Downloading package punkt to\n",
      "[nltk_data]     C:\\Users\\prasads\\AppData\\Roaming\\nltk_data...\n",
      "[nltk_data]   Package punkt is already up-to-date!\n",
      "[nltk_data] Downloading package stopwords to\n",
      "[nltk_data]     C:\\Users\\prasads\\AppData\\Roaming\\nltk_data...\n",
      "[nltk_data]   Package stopwords is already up-to-date!\n",
      "[nltk_data] Downloading package wordnet to\n",
      "[nltk_data]     C:\\Users\\prasads\\AppData\\Roaming\\nltk_data...\n",
      "[nltk_data]   Package wordnet is already up-to-date!\n"
     ]
    },
    {
     "data": {
      "text/plain": [
       "True"
      ]
     },
     "execution_count": 5,
     "metadata": {},
     "output_type": "execute_result"
    }
   ],
   "source": [
    "nltk.download('punkt')\n",
    "nltk.download('stopwords')\n",
    "nltk.download('wordnet')"
   ]
  },
  {
   "cell_type": "code",
   "execution_count": 6,
   "metadata": {
    "colab": {},
    "colab_type": "code",
    "id": "A09U1RxtxhXQ"
   },
   "outputs": [],
   "source": [
    "import re\n",
    "from string import punctuation\n",
    "from nltk.corpus import stopwords\n",
    "stop_list = stopwords.words('english')"
   ]
  },
  {
   "cell_type": "code",
   "execution_count": 7,
   "metadata": {
    "colab": {},
    "colab_type": "code",
    "id": "M1m7WDEsyJI4"
   },
   "outputs": [],
   "source": [
    "from nltk.stem.snowball import SnowballStemmer\n",
    "s1= SnowballStemmer(\"english\")\n",
    "s2= SnowballStemmer(\"french\")\n",
    "s3= SnowballStemmer(\"german\")\n",
    "s4= SnowballStemmer(\"portuguese\")\n",
    "s5= SnowballStemmer(\"russian\")\n",
    "s6= SnowballStemmer(\"spanish\")\n",
    "s7= SnowballStemmer(\"swedish\")"
   ]
  },
  {
   "cell_type": "code",
   "execution_count": 14,
   "metadata": {
    "colab": {},
    "colab_type": "code",
    "id": "KZk6ESVm9vxI"
   },
   "outputs": [
    {
     "ename": "IndentationError",
     "evalue": "unexpected indent (<ipython-input-14-2210aec6f277>, line 2)",
     "output_type": "error",
     "traceback": [
      "\u001b[1;36m  File \u001b[1;32m\"<ipython-input-14-2210aec6f277>\"\u001b[1;36m, line \u001b[1;32m2\u001b[0m\n\u001b[1;33m    \"arabic\",\u001b[0m\n\u001b[1;37m    ^\u001b[0m\n\u001b[1;31mIndentationError\u001b[0m\u001b[1;31m:\u001b[0m unexpected indent\n"
     ]
    }
   ],
   "source": [
    " #   languages = (\n",
    "        \"arabic\",\n",
    "        \"danish\",\n",
    "        \"dutch\",\n",
    "        \"english\",\n",
    "        \"finnish\",\n",
    "        \"french\",\n",
    "        \"german\",\n",
    "        \"hungarian\",\n",
    "        \"italian\",\n",
    "        \"norwegian\",\n",
    "        \"porter\",\n",
    "        \"portuguese\",\n",
    "        \"romanian\",\n",
    "        \"russian\",\n",
    "        \"spanish\",\n",
    "        \"swedish\",)"
   ]
  },
  {
   "cell_type": "code",
   "execution_count": 15,
   "metadata": {
    "colab": {
     "base_uri": "https://localhost:8080/",
     "height": 35
    },
    "colab_type": "code",
    "id": "GToPPZKB80Qg",
    "outputId": "1d7a7e37-d7d9-4573-e6dc-a9d916902d65"
   },
   "outputs": [
    {
     "data": {
      "text/plain": [
       "['advertisement', 'advertising', 'requêt', 'que', 'únicament']"
      ]
     },
     "execution_count": 15,
     "metadata": {},
     "output_type": "execute_result"
    }
   ],
   "source": [
    "import numpy as np   \n",
    "stemmer=[s1,s2,s3,s4,s5,s6,s7]\n",
    "x=['advertisement','advertising','requête','que','únicamente']\n",
    "for i in np.arange(0,7,1):\n",
    "  stems = [stemmer[i].stem(t) for t in x]\n",
    "stems"
   ]
  },
  {
   "cell_type": "code",
   "execution_count": 8,
   "metadata": {
    "colab": {},
    "colab_type": "code",
    "id": "4eCvuHcUyJD0"
   },
   "outputs": [],
   "source": [
    "#text=df['Consumer-complaint-summary']\n",
    "def tokenize_and_stem(text):\n",
    "    # first tokenize by sentence, then by word to ensure that punctuation is caught as it's own token\n",
    "    tokens = nltk.word_tokenize(text)\n",
    "    tokens = [' '.join(w for w in tokens if w.lower() not in (stop_list + list(punctuation)))]\n",
    "    filtered_tokens = []\n",
    "    # filter out any tokens not containing letters (e.g., numeric tokens, raw punctuation)\n",
    "    for token in tokens:\n",
    "        if re.search('[a-zA-Z]', token):\n",
    "            filtered_tokens.append(token)\n",
    "    stemmer=[s1,s2,s3,s4,s5,s6,s7]\n",
    "    for i in np.arange(0,7,1):\n",
    "      stems = [stemmer[i].stem(t) for t in filtered_tokens]\n",
    "    return \" \".join(map(str, stems))"
   ]
  },
  {
   "cell_type": "code",
   "execution_count": 9,
   "metadata": {
    "colab": {},
    "colab_type": "code",
    "id": "Qy2tmWExyI_R"
   },
   "outputs": [],
   "source": [
    "# tokenizedArticles = pd.DataFrame()\n",
    "df['cleaned_tokens'] = df['Consumer-complaint-summary'].apply(lambda x: tokenize_and_stem(x))\n",
    "df['word_count'] = df['cleaned_tokens'].apply(lambda x: len(x))"
   ]
  },
  {
   "cell_type": "code",
   "execution_count": 14,
   "metadata": {
    "colab": {
     "base_uri": "https://localhost:8080/",
     "height": 306
    },
    "colab_type": "code",
    "id": "0pVTmVWqzi4o",
    "outputId": "cb8b879c-8997-4f18-976d-d608e7f13366"
   },
   "outputs": [
    {
     "data": {
      "text/html": [
       "<div>\n",
       "<style scoped>\n",
       "    .dataframe tbody tr th:only-of-type {\n",
       "        vertical-align: middle;\n",
       "    }\n",
       "\n",
       "    .dataframe tbody tr th {\n",
       "        vertical-align: top;\n",
       "    }\n",
       "\n",
       "    .dataframe thead th {\n",
       "        text-align: right;\n",
       "    }\n",
       "</style>\n",
       "<table border=\"1\" class=\"dataframe\">\n",
       "  <thead>\n",
       "    <tr style=\"text-align: right;\">\n",
       "      <th></th>\n",
       "      <th>Transaction-Type</th>\n",
       "      <th>Complaint-reason</th>\n",
       "      <th>Complaint-Status</th>\n",
       "      <th>cleaned_tokens</th>\n",
       "    </tr>\n",
       "  </thead>\n",
       "  <tbody>\n",
       "    <tr>\n",
       "      <th>0</th>\n",
       "      <td>Mortgage</td>\n",
       "      <td>Loan servicing, payments, escrow account</td>\n",
       "      <td>Closed with explanation</td>\n",
       "      <td>seterus inc déposé un faux rapport auprès des ...</td>\n",
       "    </tr>\n",
       "    <tr>\n",
       "      <th>1</th>\n",
       "      <td>Credit reporting</td>\n",
       "      <td>Incorrect information on credit report</td>\n",
       "      <td>Closed with non-monetary relief</td>\n",
       "      <td>xx xx xxxx la requête en faillite n ° xxxx du ...</td>\n",
       "    </tr>\n",
       "    <tr>\n",
       "      <th>2</th>\n",
       "      <td>Bank account or service</td>\n",
       "      <td>Using a debit or ATM card</td>\n",
       "      <td>Closed with explanation</td>\n",
       "      <td>el xxxx xxxx 15 estaba preparando el vuelo de ...</td>\n",
       "    </tr>\n",
       "    <tr>\n",
       "      <th>3</th>\n",
       "      <td>Debt collection</td>\n",
       "      <td>Cont'd attempts collect debt not owed</td>\n",
       "      <td>Closed with explanation</td>\n",
       "      <td>loan paid xxxx xxxx xxxx 4 years moved va move...</td>\n",
       "    </tr>\n",
       "    <tr>\n",
       "      <th>4</th>\n",
       "      <td>Credit card</td>\n",
       "      <td>Payoff process</td>\n",
       "      <td>Closed with explanation</td>\n",
       "      <td>j'ai obtenu un compte de crédit de soins pour ...</td>\n",
       "    </tr>\n",
       "  </tbody>\n",
       "</table>\n",
       "</div>"
      ],
      "text/plain": [
       "          Transaction-Type                          Complaint-reason  \\\n",
       "0                 Mortgage  Loan servicing, payments, escrow account   \n",
       "1         Credit reporting    Incorrect information on credit report   \n",
       "2  Bank account or service                 Using a debit or ATM card   \n",
       "3          Debt collection     Cont'd attempts collect debt not owed   \n",
       "4              Credit card                            Payoff process   \n",
       "\n",
       "                  Complaint-Status  \\\n",
       "0          Closed with explanation   \n",
       "1  Closed with non-monetary relief   \n",
       "2          Closed with explanation   \n",
       "3          Closed with explanation   \n",
       "4          Closed with explanation   \n",
       "\n",
       "                                      cleaned_tokens  \n",
       "0  seterus inc déposé un faux rapport auprès des ...  \n",
       "1  xx xx xxxx la requête en faillite n ° xxxx du ...  \n",
       "2  el xxxx xxxx 15 estaba preparando el vuelo de ...  \n",
       "3  loan paid xxxx xxxx xxxx 4 years moved va move...  \n",
       "4  j'ai obtenu un compte de crédit de soins pour ...  "
      ]
     },
     "execution_count": 14,
     "metadata": {},
     "output_type": "execute_result"
    }
   ],
   "source": [
    "df.head()"
   ]
  },
  {
   "cell_type": "code",
   "execution_count": 13,
   "metadata": {
    "colab": {},
    "colab_type": "code",
    "id": "bsec9t5t124q"
   },
   "outputs": [],
   "source": [
    "df.drop(columns=['Consumer-complaint-summary','word_count'], axis=1, inplace=True)"
   ]
  },
  {
   "cell_type": "code",
   "execution_count": 15,
   "metadata": {
    "colab": {},
    "colab_type": "code",
    "id": "Bm5l1Wlh2aPR"
   },
   "outputs": [],
   "source": [
    "from sklearn import preprocessing\n",
    "le = preprocessing.LabelEncoder()\n",
    "#df['Company-response'] = le.fit_transform(df['Company-response'])\n",
    "#df['Consumer-disputes'] = le.fit_transform(df['Consumer-disputes'])\n",
    "df['Complaint-reason'] = le.fit_transform(df['Complaint-reason'])\n",
    "df['Transaction-Type'] = le.fit_transform(df['Transaction-Type'])"
   ]
  },
  {
   "cell_type": "code",
   "execution_count": 16,
   "metadata": {
    "colab": {},
    "colab_type": "code",
    "id": "Wlznf-H4AuM_"
   },
   "outputs": [],
   "source": [
    "y=df['Complaint-Status']"
   ]
  },
  {
   "cell_type": "code",
   "execution_count": 17,
   "metadata": {
    "colab": {},
    "colab_type": "code",
    "id": "MDXU-P98m0_T"
   },
   "outputs": [],
   "source": [
    "df.drop(columns=['Complaint-Status'], axis=1, inplace=True)"
   ]
  },
  {
   "cell_type": "code",
   "execution_count": 18,
   "metadata": {
    "colab": {
     "base_uri": "https://localhost:8080/",
     "height": 204
    },
    "colab_type": "code",
    "id": "u5lzCi9912ss",
    "outputId": "f1e9e2f8-4ec5-43dc-a974-b6cadeb288c7"
   },
   "outputs": [
    {
     "data": {
      "text/html": [
       "<div>\n",
       "<style scoped>\n",
       "    .dataframe tbody tr th:only-of-type {\n",
       "        vertical-align: middle;\n",
       "    }\n",
       "\n",
       "    .dataframe tbody tr th {\n",
       "        vertical-align: top;\n",
       "    }\n",
       "\n",
       "    .dataframe thead th {\n",
       "        text-align: right;\n",
       "    }\n",
       "</style>\n",
       "<table border=\"1\" class=\"dataframe\">\n",
       "  <thead>\n",
       "    <tr style=\"text-align: right;\">\n",
       "      <th></th>\n",
       "      <th>Transaction-Type</th>\n",
       "      <th>Complaint-reason</th>\n",
       "      <th>cleaned_tokens</th>\n",
       "    </tr>\n",
       "  </thead>\n",
       "  <tbody>\n",
       "    <tr>\n",
       "      <th>0</th>\n",
       "      <td>10</td>\n",
       "      <td>78</td>\n",
       "      <td>seterus inc déposé un faux rapport auprès des ...</td>\n",
       "    </tr>\n",
       "    <tr>\n",
       "      <th>1</th>\n",
       "      <td>5</td>\n",
       "      <td>71</td>\n",
       "      <td>xx xx xxxx la requête en faillite n ° xxxx du ...</td>\n",
       "    </tr>\n",
       "    <tr>\n",
       "      <th>2</th>\n",
       "      <td>0</td>\n",
       "      <td>145</td>\n",
       "      <td>el xxxx xxxx 15 estaba preparando el vuelo de ...</td>\n",
       "    </tr>\n",
       "    <tr>\n",
       "      <th>3</th>\n",
       "      <td>7</td>\n",
       "      <td>36</td>\n",
       "      <td>loan paid xxxx xxxx xxxx 4 years moved va move...</td>\n",
       "    </tr>\n",
       "    <tr>\n",
       "      <th>4</th>\n",
       "      <td>3</td>\n",
       "      <td>100</td>\n",
       "      <td>j'ai obtenu un compte de crédit de soins pour ...</td>\n",
       "    </tr>\n",
       "  </tbody>\n",
       "</table>\n",
       "</div>"
      ],
      "text/plain": [
       "   Transaction-Type  Complaint-reason  \\\n",
       "0                10                78   \n",
       "1                 5                71   \n",
       "2                 0               145   \n",
       "3                 7                36   \n",
       "4                 3               100   \n",
       "\n",
       "                                      cleaned_tokens  \n",
       "0  seterus inc déposé un faux rapport auprès des ...  \n",
       "1  xx xx xxxx la requête en faillite n ° xxxx du ...  \n",
       "2  el xxxx xxxx 15 estaba preparando el vuelo de ...  \n",
       "3  loan paid xxxx xxxx xxxx 4 years moved va move...  \n",
       "4  j'ai obtenu un compte de crédit de soins pour ...  "
      ]
     },
     "execution_count": 18,
     "metadata": {},
     "output_type": "execute_result"
    }
   ],
   "source": [
    "df.head()"
   ]
  },
  {
   "cell_type": "code",
   "execution_count": 19,
   "metadata": {
    "colab": {
     "base_uri": "https://localhost:8080/",
     "height": 71
    },
    "colab_type": "code",
    "id": "-tI2UFdX1vnp",
    "outputId": "92044577-e5f4-499d-8171-df2c14541985"
   },
   "outputs": [
    {
     "name": "stdout",
     "output_type": "stream",
     "text": [
      "Wall time: 51 s\n",
      "(43266, 59)\n"
     ]
    }
   ],
   "source": [
    "tfidf_vectorizer = TfidfVectorizer(max_df=0.5, max_features=200000,\n",
    "                                 min_df=0.1, stop_words='english',\n",
    "                                 use_idf=True, ngram_range=(1,3))\n",
    "\n",
    "%time tfidf_matrix = tfidf_vectorizer.fit_transform(df['cleaned_tokens'])\n",
    "\n",
    "\n",
    "print(tfidf_matrix.shape)"
   ]
  },
  {
   "cell_type": "code",
   "execution_count": 20,
   "metadata": {
    "colab": {
     "base_uri": "https://localhost:8080/",
     "height": 597
    },
    "colab_type": "code",
    "id": "SVoivJXgB2Aw",
    "outputId": "5b2af274-736f-42ce-eb6e-916114d42677"
   },
   "outputs": [
    {
     "data": {
      "text/html": [
       "<div>\n",
       "<style scoped>\n",
       "    .dataframe tbody tr th:only-of-type {\n",
       "        vertical-align: middle;\n",
       "    }\n",
       "\n",
       "    .dataframe tbody tr th {\n",
       "        vertical-align: top;\n",
       "    }\n",
       "\n",
       "    .dataframe thead th {\n",
       "        text-align: right;\n",
       "    }\n",
       "</style>\n",
       "<table border=\"1\" class=\"dataframe\">\n",
       "  <thead>\n",
       "    <tr style=\"text-align: right;\">\n",
       "      <th></th>\n",
       "      <th>00</th>\n",
       "      <th>account</th>\n",
       "      <th>ai</th>\n",
       "      <th>asked</th>\n",
       "      <th>bank</th>\n",
       "      <th>called</th>\n",
       "      <th>card</th>\n",
       "      <th>company</th>\n",
       "      <th>credit</th>\n",
       "      <th>credit report</th>\n",
       "      <th>...</th>\n",
       "      <th>time</th>\n",
       "      <th>told</th>\n",
       "      <th>una</th>\n",
       "      <th>une</th>\n",
       "      <th>xx</th>\n",
       "      <th>xx xx</th>\n",
       "      <th>xx xx xxxx</th>\n",
       "      <th>xx xxxx</th>\n",
       "      <th>xxxx xxxx xxxx</th>\n",
       "      <th>years</th>\n",
       "    </tr>\n",
       "  </thead>\n",
       "  <tbody>\n",
       "    <tr>\n",
       "      <th>0</th>\n",
       "      <td>0.000000</td>\n",
       "      <td>0.000000</td>\n",
       "      <td>0.000000</td>\n",
       "      <td>0.000000</td>\n",
       "      <td>0.000000</td>\n",
       "      <td>0.000000</td>\n",
       "      <td>0.000000</td>\n",
       "      <td>0.000000</td>\n",
       "      <td>0.000000</td>\n",
       "      <td>0.000000</td>\n",
       "      <td>...</td>\n",
       "      <td>0.000000</td>\n",
       "      <td>0.000000</td>\n",
       "      <td>0.000000</td>\n",
       "      <td>0.213506</td>\n",
       "      <td>0.000000</td>\n",
       "      <td>0.000000</td>\n",
       "      <td>0.000000</td>\n",
       "      <td>0.000000</td>\n",
       "      <td>0.000000</td>\n",
       "      <td>0.000000</td>\n",
       "    </tr>\n",
       "    <tr>\n",
       "      <th>1</th>\n",
       "      <td>0.093296</td>\n",
       "      <td>0.000000</td>\n",
       "      <td>0.000000</td>\n",
       "      <td>0.000000</td>\n",
       "      <td>0.000000</td>\n",
       "      <td>0.000000</td>\n",
       "      <td>0.000000</td>\n",
       "      <td>0.000000</td>\n",
       "      <td>0.000000</td>\n",
       "      <td>0.000000</td>\n",
       "      <td>...</td>\n",
       "      <td>0.000000</td>\n",
       "      <td>0.000000</td>\n",
       "      <td>0.000000</td>\n",
       "      <td>0.000000</td>\n",
       "      <td>0.651814</td>\n",
       "      <td>0.330917</td>\n",
       "      <td>0.363020</td>\n",
       "      <td>0.361756</td>\n",
       "      <td>0.270891</td>\n",
       "      <td>0.000000</td>\n",
       "    </tr>\n",
       "    <tr>\n",
       "      <th>2</th>\n",
       "      <td>0.055973</td>\n",
       "      <td>0.000000</td>\n",
       "      <td>0.000000</td>\n",
       "      <td>0.000000</td>\n",
       "      <td>0.000000</td>\n",
       "      <td>0.000000</td>\n",
       "      <td>0.000000</td>\n",
       "      <td>0.000000</td>\n",
       "      <td>0.000000</td>\n",
       "      <td>0.000000</td>\n",
       "      <td>...</td>\n",
       "      <td>0.000000</td>\n",
       "      <td>0.000000</td>\n",
       "      <td>0.124335</td>\n",
       "      <td>0.000000</td>\n",
       "      <td>0.000000</td>\n",
       "      <td>0.000000</td>\n",
       "      <td>0.000000</td>\n",
       "      <td>0.000000</td>\n",
       "      <td>0.000000</td>\n",
       "      <td>0.000000</td>\n",
       "    </tr>\n",
       "    <tr>\n",
       "      <th>3</th>\n",
       "      <td>0.050641</td>\n",
       "      <td>0.211397</td>\n",
       "      <td>0.000000</td>\n",
       "      <td>0.072526</td>\n",
       "      <td>0.000000</td>\n",
       "      <td>0.000000</td>\n",
       "      <td>0.000000</td>\n",
       "      <td>0.064414</td>\n",
       "      <td>0.000000</td>\n",
       "      <td>0.000000</td>\n",
       "      <td>...</td>\n",
       "      <td>0.000000</td>\n",
       "      <td>0.000000</td>\n",
       "      <td>0.000000</td>\n",
       "      <td>0.000000</td>\n",
       "      <td>0.117935</td>\n",
       "      <td>0.059874</td>\n",
       "      <td>0.065682</td>\n",
       "      <td>0.065454</td>\n",
       "      <td>0.343092</td>\n",
       "      <td>0.372540</td>\n",
       "    </tr>\n",
       "    <tr>\n",
       "      <th>4</th>\n",
       "      <td>0.000000</td>\n",
       "      <td>0.000000</td>\n",
       "      <td>0.597075</td>\n",
       "      <td>0.000000</td>\n",
       "      <td>0.000000</td>\n",
       "      <td>0.000000</td>\n",
       "      <td>0.000000</td>\n",
       "      <td>0.000000</td>\n",
       "      <td>0.000000</td>\n",
       "      <td>0.000000</td>\n",
       "      <td>...</td>\n",
       "      <td>0.000000</td>\n",
       "      <td>0.000000</td>\n",
       "      <td>0.000000</td>\n",
       "      <td>0.112280</td>\n",
       "      <td>0.000000</td>\n",
       "      <td>0.000000</td>\n",
       "      <td>0.000000</td>\n",
       "      <td>0.000000</td>\n",
       "      <td>0.037861</td>\n",
       "      <td>0.000000</td>\n",
       "    </tr>\n",
       "    <tr>\n",
       "      <th>5</th>\n",
       "      <td>0.000000</td>\n",
       "      <td>0.000000</td>\n",
       "      <td>0.000000</td>\n",
       "      <td>0.000000</td>\n",
       "      <td>0.000000</td>\n",
       "      <td>0.153109</td>\n",
       "      <td>0.000000</td>\n",
       "      <td>0.154676</td>\n",
       "      <td>0.000000</td>\n",
       "      <td>0.000000</td>\n",
       "      <td>...</td>\n",
       "      <td>0.150971</td>\n",
       "      <td>0.149939</td>\n",
       "      <td>0.000000</td>\n",
       "      <td>0.000000</td>\n",
       "      <td>0.000000</td>\n",
       "      <td>0.000000</td>\n",
       "      <td>0.000000</td>\n",
       "      <td>0.000000</td>\n",
       "      <td>0.000000</td>\n",
       "      <td>0.357831</td>\n",
       "    </tr>\n",
       "    <tr>\n",
       "      <th>6</th>\n",
       "      <td>0.000000</td>\n",
       "      <td>0.000000</td>\n",
       "      <td>0.126968</td>\n",
       "      <td>0.000000</td>\n",
       "      <td>0.000000</td>\n",
       "      <td>0.000000</td>\n",
       "      <td>0.000000</td>\n",
       "      <td>0.000000</td>\n",
       "      <td>0.000000</td>\n",
       "      <td>0.000000</td>\n",
       "      <td>...</td>\n",
       "      <td>0.000000</td>\n",
       "      <td>0.000000</td>\n",
       "      <td>0.000000</td>\n",
       "      <td>0.043773</td>\n",
       "      <td>0.710325</td>\n",
       "      <td>0.252436</td>\n",
       "      <td>0.276925</td>\n",
       "      <td>0.512499</td>\n",
       "      <td>0.000000</td>\n",
       "      <td>0.000000</td>\n",
       "    </tr>\n",
       "    <tr>\n",
       "      <th>7</th>\n",
       "      <td>0.000000</td>\n",
       "      <td>0.000000</td>\n",
       "      <td>0.000000</td>\n",
       "      <td>0.000000</td>\n",
       "      <td>0.000000</td>\n",
       "      <td>0.000000</td>\n",
       "      <td>0.220066</td>\n",
       "      <td>0.095724</td>\n",
       "      <td>0.000000</td>\n",
       "      <td>0.000000</td>\n",
       "      <td>...</td>\n",
       "      <td>0.000000</td>\n",
       "      <td>0.000000</td>\n",
       "      <td>0.000000</td>\n",
       "      <td>0.216005</td>\n",
       "      <td>0.000000</td>\n",
       "      <td>0.000000</td>\n",
       "      <td>0.000000</td>\n",
       "      <td>0.000000</td>\n",
       "      <td>0.000000</td>\n",
       "      <td>0.000000</td>\n",
       "    </tr>\n",
       "    <tr>\n",
       "      <th>8</th>\n",
       "      <td>0.000000</td>\n",
       "      <td>0.000000</td>\n",
       "      <td>0.000000</td>\n",
       "      <td>0.000000</td>\n",
       "      <td>0.000000</td>\n",
       "      <td>0.000000</td>\n",
       "      <td>0.000000</td>\n",
       "      <td>0.000000</td>\n",
       "      <td>0.000000</td>\n",
       "      <td>0.000000</td>\n",
       "      <td>...</td>\n",
       "      <td>0.000000</td>\n",
       "      <td>0.000000</td>\n",
       "      <td>0.263136</td>\n",
       "      <td>0.000000</td>\n",
       "      <td>0.000000</td>\n",
       "      <td>0.000000</td>\n",
       "      <td>0.000000</td>\n",
       "      <td>0.000000</td>\n",
       "      <td>0.127388</td>\n",
       "      <td>0.000000</td>\n",
       "    </tr>\n",
       "    <tr>\n",
       "      <th>9</th>\n",
       "      <td>0.000000</td>\n",
       "      <td>0.000000</td>\n",
       "      <td>0.339365</td>\n",
       "      <td>0.000000</td>\n",
       "      <td>0.000000</td>\n",
       "      <td>0.000000</td>\n",
       "      <td>0.000000</td>\n",
       "      <td>0.000000</td>\n",
       "      <td>0.000000</td>\n",
       "      <td>0.000000</td>\n",
       "      <td>...</td>\n",
       "      <td>0.000000</td>\n",
       "      <td>0.000000</td>\n",
       "      <td>0.000000</td>\n",
       "      <td>0.350997</td>\n",
       "      <td>0.000000</td>\n",
       "      <td>0.000000</td>\n",
       "      <td>0.000000</td>\n",
       "      <td>0.000000</td>\n",
       "      <td>0.000000</td>\n",
       "      <td>0.000000</td>\n",
       "    </tr>\n",
       "    <tr>\n",
       "      <th>10</th>\n",
       "      <td>0.000000</td>\n",
       "      <td>0.487672</td>\n",
       "      <td>0.000000</td>\n",
       "      <td>0.000000</td>\n",
       "      <td>0.000000</td>\n",
       "      <td>0.196121</td>\n",
       "      <td>0.000000</td>\n",
       "      <td>0.000000</td>\n",
       "      <td>0.000000</td>\n",
       "      <td>0.000000</td>\n",
       "      <td>...</td>\n",
       "      <td>0.193383</td>\n",
       "      <td>0.000000</td>\n",
       "      <td>0.000000</td>\n",
       "      <td>0.000000</td>\n",
       "      <td>0.000000</td>\n",
       "      <td>0.000000</td>\n",
       "      <td>0.000000</td>\n",
       "      <td>0.000000</td>\n",
       "      <td>0.000000</td>\n",
       "      <td>0.000000</td>\n",
       "    </tr>\n",
       "    <tr>\n",
       "      <th>11</th>\n",
       "      <td>0.000000</td>\n",
       "      <td>0.000000</td>\n",
       "      <td>0.000000</td>\n",
       "      <td>0.137919</td>\n",
       "      <td>0.119861</td>\n",
       "      <td>0.121252</td>\n",
       "      <td>0.140803</td>\n",
       "      <td>0.000000</td>\n",
       "      <td>0.091679</td>\n",
       "      <td>0.000000</td>\n",
       "      <td>...</td>\n",
       "      <td>0.119559</td>\n",
       "      <td>0.237483</td>\n",
       "      <td>0.000000</td>\n",
       "      <td>0.000000</td>\n",
       "      <td>0.000000</td>\n",
       "      <td>0.000000</td>\n",
       "      <td>0.000000</td>\n",
       "      <td>0.000000</td>\n",
       "      <td>0.000000</td>\n",
       "      <td>0.000000</td>\n",
       "    </tr>\n",
       "    <tr>\n",
       "      <th>12</th>\n",
       "      <td>0.000000</td>\n",
       "      <td>0.000000</td>\n",
       "      <td>0.281468</td>\n",
       "      <td>0.000000</td>\n",
       "      <td>0.000000</td>\n",
       "      <td>0.000000</td>\n",
       "      <td>0.000000</td>\n",
       "      <td>0.000000</td>\n",
       "      <td>0.000000</td>\n",
       "      <td>0.000000</td>\n",
       "      <td>...</td>\n",
       "      <td>0.000000</td>\n",
       "      <td>0.000000</td>\n",
       "      <td>0.000000</td>\n",
       "      <td>0.072779</td>\n",
       "      <td>0.000000</td>\n",
       "      <td>0.000000</td>\n",
       "      <td>0.000000</td>\n",
       "      <td>0.000000</td>\n",
       "      <td>0.147247</td>\n",
       "      <td>0.000000</td>\n",
       "    </tr>\n",
       "    <tr>\n",
       "      <th>13</th>\n",
       "      <td>0.232140</td>\n",
       "      <td>0.484524</td>\n",
       "      <td>0.000000</td>\n",
       "      <td>0.000000</td>\n",
       "      <td>0.000000</td>\n",
       "      <td>0.000000</td>\n",
       "      <td>0.000000</td>\n",
       "      <td>0.000000</td>\n",
       "      <td>0.441993</td>\n",
       "      <td>0.475557</td>\n",
       "      <td>...</td>\n",
       "      <td>0.000000</td>\n",
       "      <td>0.000000</td>\n",
       "      <td>0.000000</td>\n",
       "      <td>0.000000</td>\n",
       "      <td>0.000000</td>\n",
       "      <td>0.000000</td>\n",
       "      <td>0.000000</td>\n",
       "      <td>0.000000</td>\n",
       "      <td>0.337016</td>\n",
       "      <td>0.000000</td>\n",
       "    </tr>\n",
       "    <tr>\n",
       "      <th>14</th>\n",
       "      <td>0.096368</td>\n",
       "      <td>0.100569</td>\n",
       "      <td>0.000000</td>\n",
       "      <td>0.000000</td>\n",
       "      <td>0.000000</td>\n",
       "      <td>0.000000</td>\n",
       "      <td>0.000000</td>\n",
       "      <td>0.000000</td>\n",
       "      <td>0.000000</td>\n",
       "      <td>0.000000</td>\n",
       "      <td>...</td>\n",
       "      <td>0.000000</td>\n",
       "      <td>0.237645</td>\n",
       "      <td>0.000000</td>\n",
       "      <td>0.000000</td>\n",
       "      <td>0.673273</td>\n",
       "      <td>0.341812</td>\n",
       "      <td>0.374971</td>\n",
       "      <td>0.373666</td>\n",
       "      <td>0.093270</td>\n",
       "      <td>0.000000</td>\n",
       "    </tr>\n",
       "  </tbody>\n",
       "</table>\n",
       "<p>15 rows × 59 columns</p>\n",
       "</div>"
      ],
      "text/plain": [
       "          00   account        ai     asked      bank    called      card  \\\n",
       "0   0.000000  0.000000  0.000000  0.000000  0.000000  0.000000  0.000000   \n",
       "1   0.093296  0.000000  0.000000  0.000000  0.000000  0.000000  0.000000   \n",
       "2   0.055973  0.000000  0.000000  0.000000  0.000000  0.000000  0.000000   \n",
       "3   0.050641  0.211397  0.000000  0.072526  0.000000  0.000000  0.000000   \n",
       "4   0.000000  0.000000  0.597075  0.000000  0.000000  0.000000  0.000000   \n",
       "5   0.000000  0.000000  0.000000  0.000000  0.000000  0.153109  0.000000   \n",
       "6   0.000000  0.000000  0.126968  0.000000  0.000000  0.000000  0.000000   \n",
       "7   0.000000  0.000000  0.000000  0.000000  0.000000  0.000000  0.220066   \n",
       "8   0.000000  0.000000  0.000000  0.000000  0.000000  0.000000  0.000000   \n",
       "9   0.000000  0.000000  0.339365  0.000000  0.000000  0.000000  0.000000   \n",
       "10  0.000000  0.487672  0.000000  0.000000  0.000000  0.196121  0.000000   \n",
       "11  0.000000  0.000000  0.000000  0.137919  0.119861  0.121252  0.140803   \n",
       "12  0.000000  0.000000  0.281468  0.000000  0.000000  0.000000  0.000000   \n",
       "13  0.232140  0.484524  0.000000  0.000000  0.000000  0.000000  0.000000   \n",
       "14  0.096368  0.100569  0.000000  0.000000  0.000000  0.000000  0.000000   \n",
       "\n",
       "     company    credit  credit report    ...         time      told       una  \\\n",
       "0   0.000000  0.000000       0.000000    ...     0.000000  0.000000  0.000000   \n",
       "1   0.000000  0.000000       0.000000    ...     0.000000  0.000000  0.000000   \n",
       "2   0.000000  0.000000       0.000000    ...     0.000000  0.000000  0.124335   \n",
       "3   0.064414  0.000000       0.000000    ...     0.000000  0.000000  0.000000   \n",
       "4   0.000000  0.000000       0.000000    ...     0.000000  0.000000  0.000000   \n",
       "5   0.154676  0.000000       0.000000    ...     0.150971  0.149939  0.000000   \n",
       "6   0.000000  0.000000       0.000000    ...     0.000000  0.000000  0.000000   \n",
       "7   0.095724  0.000000       0.000000    ...     0.000000  0.000000  0.000000   \n",
       "8   0.000000  0.000000       0.000000    ...     0.000000  0.000000  0.263136   \n",
       "9   0.000000  0.000000       0.000000    ...     0.000000  0.000000  0.000000   \n",
       "10  0.000000  0.000000       0.000000    ...     0.193383  0.000000  0.000000   \n",
       "11  0.000000  0.091679       0.000000    ...     0.119559  0.237483  0.000000   \n",
       "12  0.000000  0.000000       0.000000    ...     0.000000  0.000000  0.000000   \n",
       "13  0.000000  0.441993       0.475557    ...     0.000000  0.000000  0.000000   \n",
       "14  0.000000  0.000000       0.000000    ...     0.000000  0.237645  0.000000   \n",
       "\n",
       "         une        xx     xx xx  xx xx xxxx   xx xxxx  xxxx xxxx xxxx  \\\n",
       "0   0.213506  0.000000  0.000000    0.000000  0.000000        0.000000   \n",
       "1   0.000000  0.651814  0.330917    0.363020  0.361756        0.270891   \n",
       "2   0.000000  0.000000  0.000000    0.000000  0.000000        0.000000   \n",
       "3   0.000000  0.117935  0.059874    0.065682  0.065454        0.343092   \n",
       "4   0.112280  0.000000  0.000000    0.000000  0.000000        0.037861   \n",
       "5   0.000000  0.000000  0.000000    0.000000  0.000000        0.000000   \n",
       "6   0.043773  0.710325  0.252436    0.276925  0.512499        0.000000   \n",
       "7   0.216005  0.000000  0.000000    0.000000  0.000000        0.000000   \n",
       "8   0.000000  0.000000  0.000000    0.000000  0.000000        0.127388   \n",
       "9   0.350997  0.000000  0.000000    0.000000  0.000000        0.000000   \n",
       "10  0.000000  0.000000  0.000000    0.000000  0.000000        0.000000   \n",
       "11  0.000000  0.000000  0.000000    0.000000  0.000000        0.000000   \n",
       "12  0.072779  0.000000  0.000000    0.000000  0.000000        0.147247   \n",
       "13  0.000000  0.000000  0.000000    0.000000  0.000000        0.337016   \n",
       "14  0.000000  0.673273  0.341812    0.374971  0.373666        0.093270   \n",
       "\n",
       "       years  \n",
       "0   0.000000  \n",
       "1   0.000000  \n",
       "2   0.000000  \n",
       "3   0.372540  \n",
       "4   0.000000  \n",
       "5   0.357831  \n",
       "6   0.000000  \n",
       "7   0.000000  \n",
       "8   0.000000  \n",
       "9   0.000000  \n",
       "10  0.000000  \n",
       "11  0.000000  \n",
       "12  0.000000  \n",
       "13  0.000000  \n",
       "14  0.000000  \n",
       "\n",
       "[15 rows x 59 columns]"
      ]
     },
     "execution_count": 20,
     "metadata": {},
     "output_type": "execute_result"
    }
   ],
   "source": [
    "tfidf_df = pd.DataFrame(tfidf_matrix.A, columns=tfidf_vectorizer.get_feature_names(),index=df.index)\n",
    "tfidf_df.head(15)"
   ]
  },
  {
   "cell_type": "code",
   "execution_count": 21,
   "metadata": {
    "colab": {},
    "colab_type": "code",
    "id": "h0EG9FdnBnPY"
   },
   "outputs": [],
   "source": [
    "df.drop(columns=['cleaned_tokens'], axis=1, inplace=True)"
   ]
  },
  {
   "cell_type": "code",
   "execution_count": 22,
   "metadata": {
    "colab": {
     "base_uri": "https://localhost:8080/",
     "height": 204
    },
    "colab_type": "code",
    "id": "N4Ic8UyaB2ne",
    "outputId": "f2e11fd3-f6bd-4c9c-d0a2-ed58ec5a2917"
   },
   "outputs": [
    {
     "data": {
      "text/html": [
       "<div>\n",
       "<style scoped>\n",
       "    .dataframe tbody tr th:only-of-type {\n",
       "        vertical-align: middle;\n",
       "    }\n",
       "\n",
       "    .dataframe tbody tr th {\n",
       "        vertical-align: top;\n",
       "    }\n",
       "\n",
       "    .dataframe thead th {\n",
       "        text-align: right;\n",
       "    }\n",
       "</style>\n",
       "<table border=\"1\" class=\"dataframe\">\n",
       "  <thead>\n",
       "    <tr style=\"text-align: right;\">\n",
       "      <th></th>\n",
       "      <th>Transaction-Type</th>\n",
       "      <th>Complaint-reason</th>\n",
       "    </tr>\n",
       "  </thead>\n",
       "  <tbody>\n",
       "    <tr>\n",
       "      <th>0</th>\n",
       "      <td>10</td>\n",
       "      <td>78</td>\n",
       "    </tr>\n",
       "    <tr>\n",
       "      <th>1</th>\n",
       "      <td>5</td>\n",
       "      <td>71</td>\n",
       "    </tr>\n",
       "    <tr>\n",
       "      <th>2</th>\n",
       "      <td>0</td>\n",
       "      <td>145</td>\n",
       "    </tr>\n",
       "    <tr>\n",
       "      <th>3</th>\n",
       "      <td>7</td>\n",
       "      <td>36</td>\n",
       "    </tr>\n",
       "    <tr>\n",
       "      <th>4</th>\n",
       "      <td>3</td>\n",
       "      <td>100</td>\n",
       "    </tr>\n",
       "  </tbody>\n",
       "</table>\n",
       "</div>"
      ],
      "text/plain": [
       "   Transaction-Type  Complaint-reason\n",
       "0                10                78\n",
       "1                 5                71\n",
       "2                 0               145\n",
       "3                 7                36\n",
       "4                 3               100"
      ]
     },
     "execution_count": 22,
     "metadata": {},
     "output_type": "execute_result"
    }
   ],
   "source": [
    "df.head()"
   ]
  },
  {
   "cell_type": "code",
   "execution_count": 23,
   "metadata": {
    "colab": {
     "base_uri": "https://localhost:8080/",
     "height": 125
    },
    "colab_type": "code",
    "id": "0LOzQJTBqcpO",
    "outputId": "add2682a-87ad-4055-8021-216bc7f90c36"
   },
   "outputs": [
    {
     "data": {
      "text/plain": [
       "RangeIndex(start=0, stop=43266, step=1)"
      ]
     },
     "execution_count": 23,
     "metadata": {},
     "output_type": "execute_result"
    }
   ],
   "source": [
    "df.index"
   ]
  },
  {
   "cell_type": "code",
   "execution_count": 24,
   "metadata": {
    "colab": {
     "base_uri": "https://localhost:8080/",
     "height": 287
    },
    "colab_type": "code",
    "id": "9BphNBXooM25",
    "outputId": "c381b2ff-1f79-4937-c81f-04576ed61401"
   },
   "outputs": [
    {
     "data": {
      "text/html": [
       "<div>\n",
       "<style scoped>\n",
       "    .dataframe tbody tr th:only-of-type {\n",
       "        vertical-align: middle;\n",
       "    }\n",
       "\n",
       "    .dataframe tbody tr th {\n",
       "        vertical-align: top;\n",
       "    }\n",
       "\n",
       "    .dataframe thead th {\n",
       "        text-align: right;\n",
       "    }\n",
       "</style>\n",
       "<table border=\"1\" class=\"dataframe\">\n",
       "  <thead>\n",
       "    <tr style=\"text-align: right;\">\n",
       "      <th></th>\n",
       "      <th>Transaction-Type</th>\n",
       "      <th>Complaint-reason</th>\n",
       "      <th>00</th>\n",
       "      <th>account</th>\n",
       "      <th>ai</th>\n",
       "      <th>asked</th>\n",
       "      <th>bank</th>\n",
       "      <th>called</th>\n",
       "      <th>card</th>\n",
       "      <th>company</th>\n",
       "      <th>...</th>\n",
       "      <th>time</th>\n",
       "      <th>told</th>\n",
       "      <th>una</th>\n",
       "      <th>une</th>\n",
       "      <th>xx</th>\n",
       "      <th>xx xx</th>\n",
       "      <th>xx xx xxxx</th>\n",
       "      <th>xx xxxx</th>\n",
       "      <th>xxxx xxxx xxxx</th>\n",
       "      <th>years</th>\n",
       "    </tr>\n",
       "  </thead>\n",
       "  <tbody>\n",
       "    <tr>\n",
       "      <th>0</th>\n",
       "      <td>10</td>\n",
       "      <td>78</td>\n",
       "      <td>0.000000</td>\n",
       "      <td>0.000000</td>\n",
       "      <td>0.000000</td>\n",
       "      <td>0.000000</td>\n",
       "      <td>0.0</td>\n",
       "      <td>0.0</td>\n",
       "      <td>0.0</td>\n",
       "      <td>0.000000</td>\n",
       "      <td>...</td>\n",
       "      <td>0.0</td>\n",
       "      <td>0.0</td>\n",
       "      <td>0.000000</td>\n",
       "      <td>0.213506</td>\n",
       "      <td>0.000000</td>\n",
       "      <td>0.000000</td>\n",
       "      <td>0.000000</td>\n",
       "      <td>0.000000</td>\n",
       "      <td>0.000000</td>\n",
       "      <td>0.00000</td>\n",
       "    </tr>\n",
       "    <tr>\n",
       "      <th>1</th>\n",
       "      <td>5</td>\n",
       "      <td>71</td>\n",
       "      <td>0.093296</td>\n",
       "      <td>0.000000</td>\n",
       "      <td>0.000000</td>\n",
       "      <td>0.000000</td>\n",
       "      <td>0.0</td>\n",
       "      <td>0.0</td>\n",
       "      <td>0.0</td>\n",
       "      <td>0.000000</td>\n",
       "      <td>...</td>\n",
       "      <td>0.0</td>\n",
       "      <td>0.0</td>\n",
       "      <td>0.000000</td>\n",
       "      <td>0.000000</td>\n",
       "      <td>0.651814</td>\n",
       "      <td>0.330917</td>\n",
       "      <td>0.363020</td>\n",
       "      <td>0.361756</td>\n",
       "      <td>0.270891</td>\n",
       "      <td>0.00000</td>\n",
       "    </tr>\n",
       "    <tr>\n",
       "      <th>2</th>\n",
       "      <td>0</td>\n",
       "      <td>145</td>\n",
       "      <td>0.055973</td>\n",
       "      <td>0.000000</td>\n",
       "      <td>0.000000</td>\n",
       "      <td>0.000000</td>\n",
       "      <td>0.0</td>\n",
       "      <td>0.0</td>\n",
       "      <td>0.0</td>\n",
       "      <td>0.000000</td>\n",
       "      <td>...</td>\n",
       "      <td>0.0</td>\n",
       "      <td>0.0</td>\n",
       "      <td>0.124335</td>\n",
       "      <td>0.000000</td>\n",
       "      <td>0.000000</td>\n",
       "      <td>0.000000</td>\n",
       "      <td>0.000000</td>\n",
       "      <td>0.000000</td>\n",
       "      <td>0.000000</td>\n",
       "      <td>0.00000</td>\n",
       "    </tr>\n",
       "    <tr>\n",
       "      <th>3</th>\n",
       "      <td>7</td>\n",
       "      <td>36</td>\n",
       "      <td>0.050641</td>\n",
       "      <td>0.211397</td>\n",
       "      <td>0.000000</td>\n",
       "      <td>0.072526</td>\n",
       "      <td>0.0</td>\n",
       "      <td>0.0</td>\n",
       "      <td>0.0</td>\n",
       "      <td>0.064414</td>\n",
       "      <td>...</td>\n",
       "      <td>0.0</td>\n",
       "      <td>0.0</td>\n",
       "      <td>0.000000</td>\n",
       "      <td>0.000000</td>\n",
       "      <td>0.117935</td>\n",
       "      <td>0.059874</td>\n",
       "      <td>0.065682</td>\n",
       "      <td>0.065454</td>\n",
       "      <td>0.343092</td>\n",
       "      <td>0.37254</td>\n",
       "    </tr>\n",
       "    <tr>\n",
       "      <th>4</th>\n",
       "      <td>3</td>\n",
       "      <td>100</td>\n",
       "      <td>0.000000</td>\n",
       "      <td>0.000000</td>\n",
       "      <td>0.597075</td>\n",
       "      <td>0.000000</td>\n",
       "      <td>0.0</td>\n",
       "      <td>0.0</td>\n",
       "      <td>0.0</td>\n",
       "      <td>0.000000</td>\n",
       "      <td>...</td>\n",
       "      <td>0.0</td>\n",
       "      <td>0.0</td>\n",
       "      <td>0.000000</td>\n",
       "      <td>0.112280</td>\n",
       "      <td>0.000000</td>\n",
       "      <td>0.000000</td>\n",
       "      <td>0.000000</td>\n",
       "      <td>0.000000</td>\n",
       "      <td>0.037861</td>\n",
       "      <td>0.00000</td>\n",
       "    </tr>\n",
       "  </tbody>\n",
       "</table>\n",
       "<p>5 rows × 61 columns</p>\n",
       "</div>"
      ],
      "text/plain": [
       "   Transaction-Type  Complaint-reason        00   account        ai     asked  \\\n",
       "0                10                78  0.000000  0.000000  0.000000  0.000000   \n",
       "1                 5                71  0.093296  0.000000  0.000000  0.000000   \n",
       "2                 0               145  0.055973  0.000000  0.000000  0.000000   \n",
       "3                 7                36  0.050641  0.211397  0.000000  0.072526   \n",
       "4                 3               100  0.000000  0.000000  0.597075  0.000000   \n",
       "\n",
       "   bank  called  card   company   ...     time  told       una       une  \\\n",
       "0   0.0     0.0   0.0  0.000000   ...      0.0   0.0  0.000000  0.213506   \n",
       "1   0.0     0.0   0.0  0.000000   ...      0.0   0.0  0.000000  0.000000   \n",
       "2   0.0     0.0   0.0  0.000000   ...      0.0   0.0  0.124335  0.000000   \n",
       "3   0.0     0.0   0.0  0.064414   ...      0.0   0.0  0.000000  0.000000   \n",
       "4   0.0     0.0   0.0  0.000000   ...      0.0   0.0  0.000000  0.112280   \n",
       "\n",
       "         xx     xx xx  xx xx xxxx   xx xxxx  xxxx xxxx xxxx    years  \n",
       "0  0.000000  0.000000    0.000000  0.000000        0.000000  0.00000  \n",
       "1  0.651814  0.330917    0.363020  0.361756        0.270891  0.00000  \n",
       "2  0.000000  0.000000    0.000000  0.000000        0.000000  0.00000  \n",
       "3  0.117935  0.059874    0.065682  0.065454        0.343092  0.37254  \n",
       "4  0.000000  0.000000    0.000000  0.000000        0.037861  0.00000  \n",
       "\n",
       "[5 rows x 61 columns]"
      ]
     },
     "execution_count": 24,
     "metadata": {},
     "output_type": "execute_result"
    }
   ],
   "source": [
    "df_2=df.join(tfidf_df)\n",
    "df_2.head()"
   ]
  },
  {
   "cell_type": "code",
   "execution_count": 25,
   "metadata": {
    "colab": {},
    "colab_type": "code",
    "id": "DA6rfeBVHr75"
   },
   "outputs": [],
   "source": [
    "X=df_2"
   ]
  },
  {
   "cell_type": "code",
   "execution_count": 27,
   "metadata": {
    "colab": {},
    "colab_type": "code",
    "id": "ROQCgc28-m1W"
   },
   "outputs": [],
   "source": [
    "from imblearn.over_sampling import ADASYN, SMOTE, RandomOverSampler\n",
    "from imblearn.pipeline import make_pipeline\n",
    "from sklearn.metrics import precision_score, recall_score, f1_score\n",
    "from sklearn.pipeline import Pipeline\n",
    "from collections import Counter\n",
    "from sklearn.datasets import make_classification"
   ]
  },
  {
   "cell_type": "code",
   "execution_count": 28,
   "metadata": {
    "colab": {},
    "colab_type": "code",
    "id": "js5ArXOfLloM"
   },
   "outputs": [
    {
     "ename": "SyntaxError",
     "evalue": "invalid syntax (<ipython-input-28-3366b803b190>, line 2)",
     "output_type": "error",
     "traceback": [
      "\u001b[1;36m  File \u001b[1;32m\"<ipython-input-28-3366b803b190>\"\u001b[1;36m, line \u001b[1;32m2\u001b[0m\n\u001b[1;33m    weights=[0.2,0.0.3,0.2,0.3], n_informative=3, n_redundant=1, flip_y=0,\u001b[0m\n\u001b[1;37m                     ^\u001b[0m\n\u001b[1;31mSyntaxError\u001b[0m\u001b[1;31m:\u001b[0m invalid syntax\n"
     ]
    }
   ],
   "source": [
    " X, y = make_classification(n_classes=4, class_sep=2,\n",
    "                           weights=[0.2,0.0.3,0.2,0.3], n_informative=3, n_redundant=1, flip_y=0,\n",
    "                           n_features=20, n_clusters_per_class=1, n_samples=1000, random_state=10)\n",
    "print('Original dataset shape %s' % Counter(y))"
   ]
  },
  {
   "cell_type": "code",
   "execution_count": 0,
   "metadata": {
    "colab": {},
    "colab_type": "code",
    "id": "ktHMG_TX_IXn"
   },
   "outputs": [],
   "source": [
    "ros = RandomOverSampler(random_state=777)\n",
    "X_ROS, y_ROS = ros.fit_sample(X, y)                            "
   ]
  },
  {
   "cell_type": "code",
   "execution_count": 29,
   "metadata": {
    "colab": {},
    "colab_type": "code",
    "id": "a9UUes3YDDfh"
   },
   "outputs": [],
   "source": [
    "smt = SMOTE(random_state=42, k_neighbors=1)\n",
    "X_SMOTE, y_SMOTE = smt.fit_sample(X, y) "
   ]
  },
  {
   "cell_type": "code",
   "execution_count": 0,
   "metadata": {
    "colab": {},
    "colab_type": "code",
    "id": "RlQPodaJJmQs"
   },
   "outputs": [],
   "source": [
    "ada = ADASYN(random_state=42)\n",
    "X_res, y_res = ada.fit_resample(X, y)"
   ]
  },
  {
   "cell_type": "code",
   "execution_count": 31,
   "metadata": {
    "colab": {},
    "colab_type": "code",
    "id": "RFVe2C9eN7oC"
   },
   "outputs": [],
   "source": [
    "from imblearn.combine import SMOTETomek\n",
    "\n",
    "smt = SMOTETomek(ratio='auto')\n",
    "X_smt, y_smt = smt.fit_sample(X, y)\n",
    "\n",
    "#plot_2d_space(X_smt, y_smt, 'SMOTE + Tomek links')"
   ]
  },
  {
   "cell_type": "code",
   "execution_count": 0,
   "metadata": {
    "colab": {},
    "colab_type": "code",
    "id": "3AmCmYh2HCcu"
   },
   "outputs": [],
   "source": [
    "# undersampling\n",
    "# nm3 = NearMiss(ratio='not minority',random_state=777, version=3, n_neighbors_ver3=4)\n",
    "# X_nm, y_nm = nm.fit_sample(X,y)"
   ]
  },
  {
   "cell_type": "code",
   "execution_count": 0,
   "metadata": {
    "colab": {},
    "colab_type": "code",
    "id": "rz0ZNXbET_11"
   },
   "outputs": [],
   "source": [
    "\n",
    "pipeline = Pipeline([\n",
    "    ('tfidf', TfidfVectorizer(stop_words=stop_words)),\n",
    "    ('tfidf_df',Pipeline([\n",
    "        pd.DataFrame(tfidf.A, columns=tfidf_vectorizer.get_feature_names(),index=df.index),\n",
    "        df.drop(columns=['cleaned_tokens','word_count','Complaint-Status'], axis=1, inplace=True),\n",
    "        'df_2',df.join(tfidf_df)])\n",
    "    ('clf', OneVsRestClassifier(MultinomialNB(fit_prior=True)))])       # (‘clf’, OneVsRestClassifier(LinearSVC(class_weight=”balanced”)))\n",
    "\n",
    "parameters = {\n",
    "    'tfidf__max_df': np.arange(0.5,0.8,0.05),\n",
    "    'tfidf__min_df': np.arange(0.1,0.4,0.05),\n",
    "    'tfidf__ngram_range': [(1, 1), (1, 2), (1, 3)],\n",
    "    'clf__estimator__alpha': (1e-2, 1e-3),\n",
    "    'clf__class_prior ' : [None, [.1,.9],[.2, .8]]\n",
    "}\n",
    "\n",
    "grid_search= GridSearchCV(pipeline, parameters)\n",
    "grid_search.fit(X_train, y_train)\n",
    "\n",
    "print(\"Best parameters set:\")\n",
    "print grid_search.best_estimator_.steps"
   ]
  },
  {
   "cell_type": "code",
   "execution_count": 0,
   "metadata": {
    "colab": {},
    "colab_type": "code",
    "id": "iaHQeZ118Uoi"
   },
   "outputs": [],
   "source": [
    "from sklearn.linear_model import LogisticRegression\n",
    "lr= LogisticRegression(class_weight='balanced', multi_class='multinomial')\n",
    "lr.fit(X_train, y_train)\n",
    "pred_lr = lr.predict(X_test)\n",
    "print(metrics.classification_report(y_test, pred))"
   ]
  },
  {
   "cell_type": "code",
   "execution_count": 32,
   "metadata": {
    "colab": {},
    "colab_type": "code",
    "id": "3o7YlIS8EuFm"
   },
   "outputs": [],
   "source": [
    "X_train, X_test, y_train, y_test = train_test_split(X_SMOTE, y_SMOTE, test_size=0.33, random_state=42)"
   ]
  },
  {
   "cell_type": "code",
   "execution_count": 36,
   "metadata": {
    "colab": {},
    "colab_type": "code",
    "id": "G4b12NazZiP7"
   },
   "outputs": [],
   "source": [
    "clf = MultinomialNB()"
   ]
  },
  {
   "cell_type": "code",
   "execution_count": 37,
   "metadata": {
    "colab": {
     "base_uri": "https://localhost:8080/",
     "height": 107
    },
    "colab_type": "code",
    "id": "5G1fWNgkZjAu",
    "outputId": "814e2ad8-6a54-4014-cd03-b86cb138f672"
   },
   "outputs": [
    {
     "name": "stdout",
     "output_type": "stream",
     "text": [
      "accuracy:   0.498\n"
     ]
    },
    {
     "data": {
      "text/plain": [
       "array([[2301,  773,  479,  517],\n",
       "       [1262, 1047,  937,  977],\n",
       "       [ 435,  413, 2981,  336],\n",
       "       [ 827,  579,  793, 1936]], dtype=int64)"
      ]
     },
     "execution_count": 37,
     "metadata": {},
     "output_type": "execute_result"
    }
   ],
   "source": [
    "clf.fit(X_train, y_train)\n",
    "pred = clf.predict(X_test)\n",
    "score = metrics.accuracy_score(y_test, pred)\n",
    "print(\"accuracy:   %0.3f\" % score)\n",
    "cm = metrics.confusion_matrix(y_test, pred)\n",
    "cm"
   ]
  },
  {
   "cell_type": "code",
   "execution_count": 38,
   "metadata": {
    "colab": {
     "base_uri": "https://localhost:8080/",
     "height": 215
    },
    "colab_type": "code",
    "id": "QF6fXYhDsJwc",
    "outputId": "053134c9-e945-48be-c610-e084634e76c6"
   },
   "outputs": [
    {
     "name": "stdout",
     "output_type": "stream",
     "text": [
      "                                 precision    recall  f1-score   support\n",
      "\n",
      "                         Closed       0.48      0.57      0.52      4070\n",
      "        Closed with explanation       0.37      0.25      0.30      4223\n",
      "    Closed with monetary relief       0.57      0.72      0.64      4165\n",
      "Closed with non-monetary relief       0.51      0.47      0.49      4135\n",
      "\n",
      "                      micro avg       0.50      0.50      0.50     16593\n",
      "                      macro avg       0.48      0.50      0.49     16593\n",
      "                   weighted avg       0.48      0.50      0.48     16593\n",
      "\n"
     ]
    }
   ],
   "source": [
    "print(metrics.classification_report(y_test, pred))"
   ]
  },
  {
   "cell_type": "code",
   "execution_count": 39,
   "metadata": {
    "colab": {
     "base_uri": "https://localhost:8080/",
     "height": 91
    },
    "colab_type": "code",
    "id": "EQLXw5iaYN3X",
    "outputId": "c53c30ff-aedb-47b6-8b2b-48ec6e68c979"
   },
   "outputs": [
    {
     "name": "stderr",
     "output_type": "stream",
     "text": [
      "f:\\envs\\env1\\lib\\site-packages\\sklearn\\model_selection\\_split.py:2053: FutureWarning: You should specify a value for 'cv' instead of relying on the default value. The default value will change from 3 to 5 in version 0.22.\n",
      "  warnings.warn(CV_WARNING, FutureWarning)\n",
      "ERROR:root:Internal Python error in the inspect module.\n",
      "Below is the traceback from this internal error.\n",
      "\n"
     ]
    },
    {
     "name": "stdout",
     "output_type": "stream",
     "text": [
      "Traceback (most recent call last):\n",
      "  File \"f:\\envs\\env1\\lib\\site-packages\\IPython\\core\\interactiveshell.py\", line 3267, in run_code\n",
      "    exec(code_obj, self.user_global_ns, self.user_ns)\n",
      "  File \"<ipython-input-39-f18dbfadc277>\", line 5, in <module>\n",
      "    grid_search.fit(X_train, y_train)\n",
      "  File \"f:\\envs\\env1\\lib\\site-packages\\sklearn\\model_selection\\_search.py\", line 722, in fit\n",
      "    self._run_search(evaluate_candidates)\n",
      "  File \"f:\\envs\\env1\\lib\\site-packages\\sklearn\\model_selection\\_search.py\", line 1191, in _run_search\n",
      "    evaluate_candidates(ParameterGrid(self.param_grid))\n",
      "  File \"f:\\envs\\env1\\lib\\site-packages\\sklearn\\model_selection\\_search.py\", line 711, in evaluate_candidates\n",
      "    cv.split(X, y, groups)))\n",
      "  File \"f:\\envs\\env1\\lib\\site-packages\\sklearn\\externals\\joblib\\parallel.py\", line 917, in __call__\n",
      "    if self.dispatch_one_batch(iterator):\n",
      "  File \"f:\\envs\\env1\\lib\\site-packages\\sklearn\\externals\\joblib\\parallel.py\", line 759, in dispatch_one_batch\n",
      "    self._dispatch(tasks)\n",
      "  File \"f:\\envs\\env1\\lib\\site-packages\\sklearn\\externals\\joblib\\parallel.py\", line 716, in _dispatch\n",
      "    job = self._backend.apply_async(batch, callback=cb)\n",
      "  File \"f:\\envs\\env1\\lib\\site-packages\\sklearn\\externals\\joblib\\_parallel_backends.py\", line 182, in apply_async\n",
      "    result = ImmediateResult(func)\n",
      "  File \"f:\\envs\\env1\\lib\\site-packages\\sklearn\\externals\\joblib\\_parallel_backends.py\", line 549, in __init__\n",
      "    self.results = batch()\n",
      "  File \"f:\\envs\\env1\\lib\\site-packages\\sklearn\\externals\\joblib\\parallel.py\", line 225, in __call__\n",
      "    for func, args, kwargs in self.items]\n",
      "  File \"f:\\envs\\env1\\lib\\site-packages\\sklearn\\externals\\joblib\\parallel.py\", line 225, in <listcomp>\n",
      "    for func, args, kwargs in self.items]\n",
      "  File \"f:\\envs\\env1\\lib\\site-packages\\sklearn\\model_selection\\_validation.py\", line 528, in _fit_and_score\n",
      "    estimator.fit(X_train, y_train, **fit_params)\n",
      "  File \"f:\\envs\\env1\\lib\\site-packages\\sklearn\\svm\\base.py\", line 212, in fit\n",
      "    fit(X, y, sample_weight, solver_type, kernel, random_seed=seed)\n",
      "  File \"f:\\envs\\env1\\lib\\site-packages\\sklearn\\svm\\base.py\", line 271, in _dense_fit\n",
      "    max_iter=self.max_iter, random_seed=random_seed)\n",
      "KeyboardInterrupt\n",
      "\n",
      "During handling of the above exception, another exception occurred:\n",
      "\n",
      "Traceback (most recent call last):\n",
      "  File \"f:\\envs\\env1\\lib\\site-packages\\IPython\\core\\interactiveshell.py\", line 2018, in showtraceback\n",
      "    stb = value._render_traceback_()\n",
      "AttributeError: 'KeyboardInterrupt' object has no attribute '_render_traceback_'\n",
      "\n",
      "During handling of the above exception, another exception occurred:\n",
      "\n",
      "Traceback (most recent call last):\n",
      "  File \"f:\\envs\\env1\\lib\\site-packages\\IPython\\core\\ultratb.py\", line 1095, in get_records\n",
      "    return _fixed_getinnerframes(etb, number_of_lines_of_context, tb_offset)\n",
      "  File \"f:\\envs\\env1\\lib\\site-packages\\IPython\\core\\ultratb.py\", line 313, in wrapped\n",
      "    return f(*args, **kwargs)\n",
      "  File \"f:\\envs\\env1\\lib\\site-packages\\IPython\\core\\ultratb.py\", line 347, in _fixed_getinnerframes\n",
      "    records = fix_frame_records_filenames(inspect.getinnerframes(etb, context))\n",
      "  File \"c:\\users\\prasads\\appdata\\local\\programs\\python\\python36\\Lib\\inspect.py\", line 1483, in getinnerframes\n",
      "    frameinfo = (tb.tb_frame,) + getframeinfo(tb, context)\n",
      "  File \"c:\\users\\prasads\\appdata\\local\\programs\\python\\python36\\Lib\\inspect.py\", line 1445, in getframeinfo\n",
      "    lines, lnum = findsource(frame)\n",
      "  File \"f:\\envs\\env1\\lib\\site-packages\\IPython\\core\\ultratb.py\", line 179, in findsource\n",
      "    lines = linecache.getlines(file, globals_dict)\n",
      "  File \"f:\\envs\\env1\\lib\\linecache.py\", line 47, in getlines\n",
      "    return updatecache(filename, module_globals)\n",
      "  File \"f:\\envs\\env1\\lib\\linecache.py\", line 136, in updatecache\n",
      "    with tokenize.open(fullname) as fp:\n",
      "  File \"f:\\envs\\env1\\lib\\tokenize.py\", line 452, in open\n",
      "    buffer = _builtin_open(filename, 'rb')\n",
      "KeyboardInterrupt\n"
     ]
    },
    {
     "ename": "KeyboardInterrupt",
     "evalue": "",
     "output_type": "error",
     "traceback": [
      "\u001b[1;31m---------------------------------------------------------------------------\u001b[0m"
     ]
    }
   ],
   "source": [
    "Cs = [0.001, 0.01, 0.1, 1, 10]\n",
    "gammas = [0.001, 0.01, 0.1, 1]\n",
    "param_grid = {'C': Cs, 'gamma' : gammas}\n",
    "grid_search = GridSearchCV(SVC(kernel='linear',class_weight='balanced'), param_grid)\n",
    "grid_search.fit(X_train, y_train)\n",
    "grid_search.best_params_"
   ]
  },
  {
   "cell_type": "code",
   "execution_count": null,
   "metadata": {
    "colab": {
     "base_uri": "https://localhost:8080/",
     "height": 35
    },
    "colab_type": "code",
    "id": "M9oiAX69se4R",
    "outputId": "c59d11b5-260c-484a-9147-82ce93ede0f6"
   },
   "outputs": [],
   "source": [
    "grid_search.best_score_              # c=0.1 gamma = 0.001"
   ]
  },
  {
   "cell_type": "code",
   "execution_count": 48,
   "metadata": {
    "colab": {
     "base_uri": "https://localhost:8080/",
     "height": 271
    },
    "colab_type": "code",
    "id": "TmaGQsvgBa0p",
    "outputId": "d259c248-5ff9-47c6-b5b4-5e0a173dd3e0"
   },
   "outputs": [
    {
     "name": "stdout",
     "output_type": "stream",
     "text": [
      "                                 precision    recall  f1-score   support\n",
      "\n",
      "                         Closed       0.00      0.00      0.00       105\n",
      "        Closed with explanation       0.75      0.97      0.85      4164\n",
      "    Closed with monetary relief       0.25      0.12      0.17       482\n",
      "Closed with non-monetary relief       0.00      0.00      0.00       847\n",
      "\n",
      "                      micro avg       0.73      0.73      0.73      5598\n",
      "                      macro avg       0.25      0.27      0.25      5598\n",
      "                   weighted avg       0.58      0.73      0.64      5598\n",
      "\n"
     ]
    },
    {
     "name": "stderr",
     "output_type": "stream",
     "text": [
      "/usr/local/lib/python3.6/dist-packages/sklearn/metrics/classification.py:1143: UndefinedMetricWarning: Precision and F-score are ill-defined and being set to 0.0 in labels with no predicted samples.\n",
      "  'precision', 'predicted', average, warn_for)\n"
     ]
    }
   ],
   "source": [
    "svc=SVC(kernel='linear',class_weight='balanced',C=0.1,gamma=0.001)\n",
    "svc.fit(X_train,y_train)\n",
    "svc_pred= svc.predict(X_test)\n",
    "print(metrics.classification_report(y_test, pred))"
   ]
  },
  {
   "cell_type": "code",
   "execution_count": 74,
   "metadata": {
    "colab": {
     "base_uri": "https://localhost:8080/",
     "height": 91
    },
    "colab_type": "code",
    "id": "6ZNmx2lh9f5z",
    "outputId": "a378ec93-ce27-4b83-beb4-29fc1bf3ee50"
   },
   "outputs": [
    {
     "name": "stderr",
     "output_type": "stream",
     "text": [
      "/usr/local/lib/python3.6/dist-packages/sklearn/model_selection/_split.py:2053: FutureWarning: You should specify a value for 'cv' instead of relying on the default value. The default value will change from 3 to 5 in version 0.22.\n",
      "  warnings.warn(CV_WARNING, FutureWarning)\n"
     ]
    },
    {
     "data": {
      "text/plain": [
       "{'C': 10, 'gamma': 1}"
      ]
     },
     "execution_count": 74,
     "metadata": {
      "tags": []
     },
     "output_type": "execute_result"
    }
   ],
   "source": [
    "Cs = [0.001, 0.01, 0.1, 1, 10]\n",
    "gammas = [0.001, 0.01, 0.1, 1]\n",
    "param_grid = {'C': Cs, 'gamma' : gammas}\n",
    "grid_search = GridSearchCV(SVC(kernel='rbf',class_weight='balanced'), param_grid)\n",
    "grid_search.fit(X_train, y_train)\n",
    "grid_search.best_params_"
   ]
  },
  {
   "cell_type": "code",
   "execution_count": 75,
   "metadata": {
    "colab": {
     "base_uri": "https://localhost:8080/",
     "height": 35
    },
    "colab_type": "code",
    "id": "dkIgWD_fA8Yf",
    "outputId": "efd43bd4-6f3b-46f0-9b3f-10016f08b148"
   },
   "outputs": [
    {
     "data": {
      "text/plain": [
       "0.6717416175305817"
      ]
     },
     "execution_count": 75,
     "metadata": {
      "tags": []
     },
     "output_type": "execute_result"
    }
   ],
   "source": [
    "grid_search.best_score_"
   ]
  },
  {
   "cell_type": "code",
   "execution_count": 47,
   "metadata": {
    "colab": {
     "base_uri": "https://localhost:8080/",
     "height": 224
    },
    "colab_type": "code",
    "id": "QIoz3MW9Cu5k",
    "outputId": "93888a8f-61e4-46f4-8df6-203536ab8ec3"
   },
   "outputs": [
    {
     "ename": "NameError",
     "evalue": "ignored",
     "output_type": "error",
     "traceback": [
      "\u001b[0;31m---------------------------------------------------------------------------\u001b[0m",
      "\u001b[0;31mNameError\u001b[0m                                 Traceback (most recent call last)",
      "\u001b[0;32m<ipython-input-47-a54faed47e66>\u001b[0m in \u001b[0;36m<module>\u001b[0;34m()\u001b[0m\n\u001b[1;32m      2\u001b[0m \u001b[0msvc_rbf\u001b[0m\u001b[0;34m.\u001b[0m\u001b[0mfit\u001b[0m\u001b[0;34m(\u001b[0m\u001b[0mX_train\u001b[0m\u001b[0;34m,\u001b[0m\u001b[0my_train\u001b[0m\u001b[0;34m)\u001b[0m\u001b[0;34m\u001b[0m\u001b[0;34m\u001b[0m\u001b[0m\n\u001b[1;32m      3\u001b[0m \u001b[0msvc_pred\u001b[0m\u001b[0;34m=\u001b[0m \u001b[0msvc_rbf\u001b[0m\u001b[0;34m.\u001b[0m\u001b[0mpredict\u001b[0m\u001b[0;34m(\u001b[0m\u001b[0mX_test\u001b[0m\u001b[0;34m)\u001b[0m\u001b[0;34m\u001b[0m\u001b[0;34m\u001b[0m\u001b[0m\n\u001b[0;32m----> 4\u001b[0;31m \u001b[0mprint\u001b[0m\u001b[0;34m(\u001b[0m \u001b[0mmetrics\u001b[0m\u001b[0;34m.\u001b[0m\u001b[0maccuracy_score\u001b[0m\u001b[0;34m(\u001b[0m\u001b[0my_test\u001b[0m\u001b[0;34m,\u001b[0m\u001b[0msvm_pred\u001b[0m\u001b[0;34m)\u001b[0m\u001b[0;34m)\u001b[0m\u001b[0;34m\u001b[0m\u001b[0;34m\u001b[0m\u001b[0m\n\u001b[0m\u001b[1;32m      5\u001b[0m \u001b[0mprint\u001b[0m\u001b[0;34m(\u001b[0m\u001b[0mmetrics\u001b[0m\u001b[0;34m.\u001b[0m\u001b[0mclassification_report\u001b[0m\u001b[0;34m(\u001b[0m\u001b[0my_test\u001b[0m\u001b[0;34m,\u001b[0m \u001b[0mpred\u001b[0m\u001b[0;34m)\u001b[0m\u001b[0;34m)\u001b[0m\u001b[0;34m\u001b[0m\u001b[0;34m\u001b[0m\u001b[0m\n",
      "\u001b[0;31mNameError\u001b[0m: name 'svm_pred' is not defined"
     ]
    }
   ],
   "source": [
    "svc_rbf=SVC(kernel='rbf',class_weight='balanced',C=10,gamma=1)\n",
    "svc_rbf.fit(X_train,y_train)\n",
    "svc_pred= svc_rbf.predict(X_test)\n",
    "print( metrics.accuracy_score(y_test,svm_pred))\n",
    "print(metrics.classification_report(y_test, pred))"
   ]
  },
  {
   "cell_type": "code",
   "execution_count": 33,
   "metadata": {
    "colab": {
     "base_uri": "https://localhost:8080/",
     "height": 271
    },
    "colab_type": "code",
    "id": "4iSEPOvxGU11",
    "outputId": "e39faef9-9126-4e52-ae4e-c8e07eefaa0c"
   },
   "outputs": [
    {
     "name": "stderr",
     "output_type": "stream",
     "text": [
      "f:\\envs\\env1\\lib\\site-packages\\sklearn\\ensemble\\forest.py:246: FutureWarning: The default value of n_estimators will change from 10 in version 0.20 to 100 in 0.22.\n",
      "  \"10 in version 0.20 to 100 in 0.22.\", FutureWarning)\n"
     ]
    },
    {
     "name": "stdout",
     "output_type": "stream",
     "text": [
      "                                 precision    recall  f1-score   support\n",
      "\n",
      "                         Closed       0.98      0.99      0.98     11205\n",
      "        Closed with explanation       0.85      0.83      0.84     11374\n",
      "    Closed with monetary relief       0.93      0.96      0.95     11354\n",
      "Closed with non-monetary relief       0.90      0.89      0.89     11331\n",
      "              Untimely response       1.00      0.99      1.00     11331\n",
      "\n",
      "                      micro avg       0.93      0.93      0.93     56595\n",
      "                      macro avg       0.93      0.93      0.93     56595\n",
      "                   weighted avg       0.93      0.93      0.93     56595\n",
      "\n"
     ]
    }
   ],
   "source": [
    "from sklearn.ensemble import RandomForestClassifier\n",
    "clf1 = RandomForestClassifier(random_state=0, n_jobs=-1, class_weight='balanced')   # {class_label: weight}\n",
    "model = clf1.fit(X_train, y_train)\n",
    "predict = model.predict(X_test)\n",
    "proba = model.predict_proba(X_test)\n",
    "cm = metrics.confusion_matrix(y_test, predict)\n",
    "print(metrics.classification_report(y_test, predict))"
   ]
  },
  {
   "cell_type": "code",
   "execution_count": 107,
   "metadata": {},
   "outputs": [
    {
     "data": {
      "text/plain": [
       "array([[5.00000000e+00, 4.30000000e+01, 4.00000000e+00, ...,\n",
       "        0.00000000e+00, 2.48111542e-02, 0.00000000e+00],\n",
       "       [1.00000000e+01, 3.40000000e+01, 3.74986875e+00, ...,\n",
       "        0.00000000e+00, 0.00000000e+00, 0.00000000e+00],\n",
       "       [4.00000000e+00, 2.40000000e+01, 4.00000000e+00, ...,\n",
       "        0.00000000e+00, 6.99948693e-03, 0.00000000e+00],\n",
       "       ...,\n",
       "       [6.00000000e+00, 5.30000000e+01, 7.00000000e+00, ...,\n",
       "        0.00000000e+00, 0.00000000e+00, 0.00000000e+00],\n",
       "       [4.00000000e+00, 3.70000000e+01, 9.00000000e+00, ...,\n",
       "        0.00000000e+00, 0.00000000e+00, 0.00000000e+00],\n",
       "       [3.00000000e+00, 3.10000000e+01, 9.00000000e+00, ...,\n",
       "        0.00000000e+00, 0.00000000e+00, 0.00000000e+00]])"
      ]
     },
     "execution_count": 107,
     "metadata": {},
     "output_type": "execute_result"
    }
   ],
   "source": [
    "X_train"
   ]
  },
  {
   "cell_type": "code",
   "execution_count": 34,
   "metadata": {
    "colab": {
     "base_uri": "https://localhost:8080/",
     "height": 35
    },
    "colab_type": "code",
    "id": "po7a80pZS8oK",
    "outputId": "c499a23d-531f-46ff-8769-c10e014b64fa"
   },
   "outputs": [
    {
     "name": "stdout",
     "output_type": "stream",
     "text": [
      "0.9313190211149395\n"
     ]
    }
   ],
   "source": [
    "print( metrics.accuracy_score(y_test,predict))"
   ]
  },
  {
   "cell_type": "code",
   "execution_count": 35,
   "metadata": {
    "colab": {
     "base_uri": "https://localhost:8080/",
     "height": 89
    },
    "colab_type": "code",
    "id": "Yxd4I0HfcdlJ",
    "outputId": "5c281aa7-ee69-413d-f3f8-0d5cb3bfaceb"
   },
   "outputs": [
    {
     "data": {
      "text/plain": [
       "array([[11058,   130,     5,    12,     0],\n",
       "       [  162,  9441,   654,  1101,    16],\n",
       "       [    6,   394, 10922,    31,     1],\n",
       "       [   51,  1108,   131, 10036,     5],\n",
       "       [    4,    73,     0,     3, 11251]], dtype=int64)"
      ]
     },
     "execution_count": 35,
     "metadata": {},
     "output_type": "execute_result"
    }
   ],
   "source": [
    "cm"
   ]
  },
  {
   "cell_type": "code",
   "execution_count": 52,
   "metadata": {
    "colab": {
     "base_uri": "https://localhost:8080/",
     "height": 1259
    },
    "colab_type": "code",
    "id": "CTzmAGioGV-2",
    "outputId": "c5cc408a-7cca-4955-8bc8-195ef9aa8703"
   },
   "outputs": [
    {
     "name": "stdout",
     "output_type": "stream",
     "text": [
      "scale_pos_weight = 3: \n",
      "0.6909540167540529\n",
      "Confusion Matrix: \n",
      " [[3538  189  268   75]\n",
      " [ 621 2157  628  817]\n",
      " [ 193  291 3552  129]\n",
      " [ 732  581  604 2218]]\n",
      "--------------------\n",
      "                                 precision    recall  f1-score   support\n",
      "\n",
      "                         Closed       0.70      0.87      0.77      4070\n",
      "        Closed with explanation       0.67      0.51      0.58      4223\n",
      "    Closed with monetary relief       0.70      0.85      0.77      4165\n",
      "Closed with non-monetary relief       0.68      0.54      0.60      4135\n",
      "\n",
      "                      micro avg       0.69      0.69      0.69     16593\n",
      "                      macro avg       0.69      0.69      0.68     16593\n",
      "                   weighted avg       0.69      0.69      0.68     16593\n",
      "\n",
      "--------------------\n",
      "No : % 95.0\n",
      "Yes : % 78.0\n",
      "---------------------------------------------------------\n",
      "scale_pos_weight = 4: \n",
      "0.6909540167540529\n",
      "Confusion Matrix: \n",
      " [[3538  189  268   75]\n",
      " [ 621 2157  628  817]\n",
      " [ 193  291 3552  129]\n",
      " [ 732  581  604 2218]]\n",
      "--------------------\n",
      "                                 precision    recall  f1-score   support\n",
      "\n",
      "                         Closed       0.70      0.87      0.77      4070\n",
      "        Closed with explanation       0.67      0.51      0.58      4223\n",
      "    Closed with monetary relief       0.70      0.85      0.77      4165\n",
      "Closed with non-monetary relief       0.68      0.54      0.60      4135\n",
      "\n",
      "                      micro avg       0.69      0.69      0.69     16593\n",
      "                      macro avg       0.69      0.69      0.68     16593\n",
      "                   weighted avg       0.69      0.69      0.68     16593\n",
      "\n",
      "--------------------\n",
      "No : % 95.0\n",
      "Yes : % 78.0\n",
      "---------------------------------------------------------\n",
      "scale_pos_weight = 5: \n",
      "0.6909540167540529\n",
      "Confusion Matrix: \n",
      " [[3538  189  268   75]\n",
      " [ 621 2157  628  817]\n",
      " [ 193  291 3552  129]\n",
      " [ 732  581  604 2218]]\n",
      "--------------------\n",
      "                                 precision    recall  f1-score   support\n",
      "\n",
      "                         Closed       0.70      0.87      0.77      4070\n",
      "        Closed with explanation       0.67      0.51      0.58      4223\n",
      "    Closed with monetary relief       0.70      0.85      0.77      4165\n",
      "Closed with non-monetary relief       0.68      0.54      0.60      4135\n",
      "\n",
      "                      micro avg       0.69      0.69      0.69     16593\n",
      "                      macro avg       0.69      0.69      0.68     16593\n",
      "                   weighted avg       0.69      0.69      0.68     16593\n",
      "\n",
      "--------------------\n",
      "No : % 95.0\n",
      "Yes : % 78.0\n",
      "---------------------------------------------------------\n"
     ]
    }
   ],
   "source": [
    "import xgboost as xgb\n",
    "from xgboost.sklearn import XGBClassifier\n",
    "scale_pos_weight = [3,4,5]\n",
    "for i in scale_pos_weight:\n",
    "    print('scale_pos_weight = {}: '.format(i))\n",
    "    clf2 = XGBClassifier(scale_pos_weight=i)\n",
    "    clf2.fit(X_train, y_train)\n",
    "    predict = clf2.predict(X_test)\n",
    "    proba = clf2.predict_proba(X_test)\n",
    "    cm = metrics.confusion_matrix(y_test, predict)\n",
    "    print(metrics.accuracy_score(y_test, predict))\n",
    "    print('Confusion Matrix: \\n', cm)\n",
    "    print('--------------------')\n",
    "    print(metrics.classification_report(y_test, predict))\n",
    "    print('--------------------')\n",
    "    print('No : %', round(100 * (cm[0][0]/(cm[0][0]+cm[0][1]))))\n",
    "    print('Yes : %', round(100* (cm[1][1]/(cm[1][0]+cm[1][1]))))\n",
    "    print('---------------------------------------------------------')"
   ]
  },
  {
   "cell_type": "code",
   "execution_count": 0,
   "metadata": {
    "colab": {},
    "colab_type": "code",
    "id": "BrxMF7vSUdmw"
   },
   "outputs": [],
   "source": [
    "maxdf = np.arange(0.5,0.8,0.05)\n",
    "mindf = np.arange(0.1,0.4,0.05)\n",
    "param_grid = {'max_df': maxdf, 'min_df' : mindf}\n",
    "grid_search = GridSearchCV((TfidfVectorizer(ngram_range=(1,3)).fit_transform(df['cleaned_tokens'])), param_grid)"
   ]
  },
  {
   "cell_type": "markdown",
   "metadata": {},
   "source": [
    "# Testing starts here"
   ]
  },
  {
   "cell_type": "code",
   "execution_count": 36,
   "metadata": {
    "colab": {},
    "colab_type": "code",
    "collapsed": true,
    "id": "4GQzXSjQHd-Q"
   },
   "outputs": [
    {
     "data": {
      "text/html": [
       "<div>\n",
       "<style scoped>\n",
       "    .dataframe tbody tr th:only-of-type {\n",
       "        vertical-align: middle;\n",
       "    }\n",
       "\n",
       "    .dataframe tbody tr th {\n",
       "        vertical-align: top;\n",
       "    }\n",
       "\n",
       "    .dataframe thead th {\n",
       "        text-align: right;\n",
       "    }\n",
       "</style>\n",
       "<table border=\"1\" class=\"dataframe\">\n",
       "  <thead>\n",
       "    <tr style=\"text-align: right;\">\n",
       "      <th></th>\n",
       "      <th>Complaint-ID</th>\n",
       "      <th>Date-received</th>\n",
       "      <th>Transaction-Type</th>\n",
       "      <th>Complaint-reason</th>\n",
       "      <th>Company-response</th>\n",
       "      <th>Date-sent-to-company</th>\n",
       "      <th>Consumer-disputes</th>\n",
       "      <th>Consumer-complaint-summary</th>\n",
       "    </tr>\n",
       "  </thead>\n",
       "  <tbody>\n",
       "    <tr>\n",
       "      <th>0</th>\n",
       "      <td>Te-1</td>\n",
       "      <td>8/18/2016</td>\n",
       "      <td>Bank account or service</td>\n",
       "      <td>Account opening, closing, or management</td>\n",
       "      <td>Company has responded to the consumer and the ...</td>\n",
       "      <td>8/18/2016</td>\n",
       "      <td>No</td>\n",
       "      <td>XXXX / XXXX / 16 I called Citibank to open a c...</td>\n",
       "    </tr>\n",
       "    <tr>\n",
       "      <th>1</th>\n",
       "      <td>Te-2</td>\n",
       "      <td>4/18/2016</td>\n",
       "      <td>Debt collection</td>\n",
       "      <td>Communication tactics</td>\n",
       "      <td>Company believes it acted appropriately as aut...</td>\n",
       "      <td>4/20/2016</td>\n",
       "      <td>No</td>\n",
       "      <td>I'm struggling financially. I called and I off...</td>\n",
       "    </tr>\n",
       "    <tr>\n",
       "      <th>2</th>\n",
       "      <td>Te-3</td>\n",
       "      <td>3/23/2016</td>\n",
       "      <td>Credit reporting</td>\n",
       "      <td>Incorrect information on credit report</td>\n",
       "      <td>NaN</td>\n",
       "      <td>3/23/2016</td>\n",
       "      <td>No</td>\n",
       "      <td>In XXXX of 2015, an automatic payment was conf...</td>\n",
       "    </tr>\n",
       "    <tr>\n",
       "      <th>3</th>\n",
       "      <td>Te-4</td>\n",
       "      <td>6/26/2017</td>\n",
       "      <td>Student loan</td>\n",
       "      <td>Dealing with your lender or servicer</td>\n",
       "      <td>NaN</td>\n",
       "      <td>6/26/2017</td>\n",
       "      <td>NaN</td>\n",
       "      <td>I submitted a request to XXXX, which is my cur...</td>\n",
       "    </tr>\n",
       "    <tr>\n",
       "      <th>4</th>\n",
       "      <td>Te-5</td>\n",
       "      <td>5/13/2016</td>\n",
       "      <td>Credit reporting</td>\n",
       "      <td>Incorrect information on credit report</td>\n",
       "      <td>Company has responded to the consumer and the ...</td>\n",
       "      <td>5/13/2016</td>\n",
       "      <td>No</td>\n",
       "      <td>A state tax lien was filed against me XXXX / X...</td>\n",
       "    </tr>\n",
       "  </tbody>\n",
       "</table>\n",
       "</div>"
      ],
      "text/plain": [
       "  Complaint-ID Date-received         Transaction-Type  \\\n",
       "0         Te-1     8/18/2016  Bank account or service   \n",
       "1         Te-2     4/18/2016          Debt collection   \n",
       "2         Te-3     3/23/2016         Credit reporting   \n",
       "3         Te-4     6/26/2017             Student loan   \n",
       "4         Te-5     5/13/2016         Credit reporting   \n",
       "\n",
       "                          Complaint-reason  \\\n",
       "0  Account opening, closing, or management   \n",
       "1                    Communication tactics   \n",
       "2   Incorrect information on credit report   \n",
       "3     Dealing with your lender or servicer   \n",
       "4   Incorrect information on credit report   \n",
       "\n",
       "                                    Company-response Date-sent-to-company  \\\n",
       "0  Company has responded to the consumer and the ...            8/18/2016   \n",
       "1  Company believes it acted appropriately as aut...            4/20/2016   \n",
       "2                                                NaN            3/23/2016   \n",
       "3                                                NaN            6/26/2017   \n",
       "4  Company has responded to the consumer and the ...            5/13/2016   \n",
       "\n",
       "  Consumer-disputes                         Consumer-complaint-summary  \n",
       "0                No  XXXX / XXXX / 16 I called Citibank to open a c...  \n",
       "1                No  I'm struggling financially. I called and I off...  \n",
       "2                No  In XXXX of 2015, an automatic payment was conf...  \n",
       "3               NaN  I submitted a request to XXXX, which is my cur...  \n",
       "4                No  A state tax lien was filed against me XXXX / X...  "
      ]
     },
     "execution_count": 36,
     "metadata": {},
     "output_type": "execute_result"
    }
   ],
   "source": [
    "df1 = pd.read_csv('test.csv')\n",
    "df1.head()"
   ]
  },
  {
   "cell_type": "code",
   "execution_count": 59,
   "metadata": {},
   "outputs": [],
   "source": [
    "# df1.dropna(inplace=True)"
   ]
  },
  {
   "cell_type": "code",
   "execution_count": 37,
   "metadata": {},
   "outputs": [],
   "source": [
    "df1.drop(columns=['Date-received', 'Date-sent-to-company','Complaint-ID'], axis=1, inplace=True)"
   ]
  },
  {
   "cell_type": "code",
   "execution_count": 38,
   "metadata": {},
   "outputs": [],
   "source": [
    "df1['cleaned_tokens'] = df1['Consumer-complaint-summary'].apply(lambda x: tokenize_and_stem(x))\n",
    "df1['word_count'] = df1['cleaned_tokens'].apply(lambda x: len(x))"
   ]
  },
  {
   "cell_type": "code",
   "execution_count": 39,
   "metadata": {},
   "outputs": [],
   "source": [
    "df1.drop(columns=['Consumer-complaint-summary','word_count', 'Company-response', 'Consumer-disputes'], axis=1, inplace=True)"
   ]
  },
  {
   "cell_type": "code",
   "execution_count": 40,
   "metadata": {},
   "outputs": [],
   "source": [
    "le2 = preprocessing.LabelEncoder()\n",
    "#df1['Company-response'] = le2.fit_transform(df1['Company-response'])\n",
    "#df1['Consumer-disputes'] = le2.fit_transform(df1['Consumer-disputes'])\n",
    "df1['Complaint-reason'] = le2.fit_transform(df1['Complaint-reason'])\n",
    "df1['Transaction-Type'] = le2.fit_transform(df1['Transaction-Type'])"
   ]
  },
  {
   "cell_type": "code",
   "execution_count": 41,
   "metadata": {
    "collapsed": true
   },
   "outputs": [
    {
     "name": "stdout",
     "output_type": "stream",
     "text": [
      "Wall time: 20.8 s\n",
      "(18543, 61)\n"
     ]
    }
   ],
   "source": [
    "tfidf_vectorizer1 = TfidfVectorizer(max_df=0.5, max_features=200000,\n",
    "                                 min_df=0.1, stop_words='english',\n",
    "                                 use_idf=True, ngram_range=(1,3))\n",
    "\n",
    "%time tfidf_matrix1 = tfidf_vectorizer1.fit_transform(df1['cleaned_tokens'])\n",
    "\n",
    "\n",
    "print(tfidf_matrix1.shape)"
   ]
  },
  {
   "cell_type": "code",
   "execution_count": 42,
   "metadata": {},
   "outputs": [],
   "source": [
    "tfidf_df1 = pd.DataFrame(tfidf_matrix1.A, columns=tfidf_vectorizer1.get_feature_names(),index=df1.index)\n",
    "#tfidf_df1 = tfidf_df1.drop(columns=['es', 'make'], axis=1)"
   ]
  },
  {
   "cell_type": "code",
   "execution_count": null,
   "metadata": {},
   "outputs": [],
   "source": []
  },
  {
   "cell_type": "code",
   "execution_count": 43,
   "metadata": {},
   "outputs": [],
   "source": [
    "a = set(tfidf_df1.columns)"
   ]
  },
  {
   "cell_type": "code",
   "execution_count": 44,
   "metadata": {},
   "outputs": [],
   "source": [
    "b = set(tfidf_vectorizer.get_feature_names())"
   ]
  },
  {
   "cell_type": "code",
   "execution_count": 45,
   "metadata": {},
   "outputs": [],
   "source": [
    "if a == b:\n",
    "    print('true')"
   ]
  },
  {
   "cell_type": "code",
   "execution_count": 46,
   "metadata": {},
   "outputs": [],
   "source": [
    "predict1 = model.predict(tfidf_df1)"
   ]
  },
  {
   "cell_type": "code",
   "execution_count": 89,
   "metadata": {
    "collapsed": true
   },
   "outputs": [
    {
     "name": "stdout",
     "output_type": "stream",
     "text": [
      "00  account  ai  asked  bank  called  card  company  credit  credit report  date  days  debt  des  el  en  es  et  help  information  je  la  le  les  letter  loan  los  make  mi  mon  money  mortgage  ne  number  paid  para  pas  pay  payment  payments  phone  por  pour  que  received  report  request  said  se  sent  service  time  told  una  une  xx  xx xx  xx xx xxxx  xx xxxx  xxxx xxxx xxxx  years  \n",
      "00  account  ai  asked  bank  called  card  company  credit  credit report  date  days  debt  des  el  en  et  help  information  je  la  le  les  letter  loan  los  mi  mon  money  mortgage  ne  number  paid  para  pas  pay  payment  payments  phone  por  pour  que  received  report  request  said  se  sent  service  time  told  una  une  xx  xx xx  xx xx xxxx  xx xxxx  xxxx xxxx xxxx  years  "
     ]
    }
   ],
   "source": [
    "for x in tfidf_vectorizer1.get_feature_names(): \n",
    "    print(x, ' ', end='')\n",
    "print('')\n",
    "for y in tfidf_vectorizer.get_feature_names():\n",
    "    print(y, ' ', end='')"
   ]
  },
  {
   "cell_type": "code",
   "execution_count": 48,
   "metadata": {
    "collapsed": true
   },
   "outputs": [
    {
     "data": {
      "text/html": [
       "<div>\n",
       "<style scoped>\n",
       "    .dataframe tbody tr th:only-of-type {\n",
       "        vertical-align: middle;\n",
       "    }\n",
       "\n",
       "    .dataframe tbody tr th {\n",
       "        vertical-align: top;\n",
       "    }\n",
       "\n",
       "    .dataframe thead th {\n",
       "        text-align: right;\n",
       "    }\n",
       "</style>\n",
       "<table border=\"1\" class=\"dataframe\">\n",
       "  <thead>\n",
       "    <tr style=\"text-align: right;\">\n",
       "      <th></th>\n",
       "      <th>Complaint-ID</th>\n",
       "      <th>Complaint-status</th>\n",
       "    </tr>\n",
       "  </thead>\n",
       "  <tbody>\n",
       "    <tr>\n",
       "      <th>0</th>\n",
       "      <td>Te-1</td>\n",
       "      <td>Closed with explanation</td>\n",
       "    </tr>\n",
       "    <tr>\n",
       "      <th>1</th>\n",
       "      <td>Te-2</td>\n",
       "      <td>Closed with explanation</td>\n",
       "    </tr>\n",
       "    <tr>\n",
       "      <th>2</th>\n",
       "      <td>Te-3</td>\n",
       "      <td>Closed with explanation</td>\n",
       "    </tr>\n",
       "    <tr>\n",
       "      <th>3</th>\n",
       "      <td>Te-4</td>\n",
       "      <td>Closed with explanation</td>\n",
       "    </tr>\n",
       "    <tr>\n",
       "      <th>4</th>\n",
       "      <td>Te-5</td>\n",
       "      <td>Closed with explanation</td>\n",
       "    </tr>\n",
       "  </tbody>\n",
       "</table>\n",
       "</div>"
      ],
      "text/plain": [
       "  Complaint-ID         Complaint-status\n",
       "0         Te-1  Closed with explanation\n",
       "1         Te-2  Closed with explanation\n",
       "2         Te-3  Closed with explanation\n",
       "3         Te-4  Closed with explanation\n",
       "4         Te-5  Closed with explanation"
      ]
     },
     "execution_count": 48,
     "metadata": {},
     "output_type": "execute_result"
    }
   ],
   "source": [
    "df1 = pd.read_csv('test.csv')\n",
    "df1.drop(columns=['Date-received', 'Transaction-Type', 'Complaint-reason', 'Company-response', 'Date-sent-to-company', 'Consumer-disputes', 'Consumer-complaint-summary'], axis=1, inplace=True)\n",
    "df1['Complaint-status'] = predict1\n",
    "df1.head()"
   ]
  },
  {
   "cell_type": "code",
   "execution_count": 54,
   "metadata": {
    "collapsed": true
   },
   "outputs": [
    {
     "data": {
      "text/plain": [
       "['__bytes__',\n",
       " '__class__',\n",
       " '__delattr__',\n",
       " '__dict__',\n",
       " '__dir__',\n",
       " '__doc__',\n",
       " '__eq__',\n",
       " '__format__',\n",
       " '__ge__',\n",
       " '__getattr__',\n",
       " '__getattribute__',\n",
       " '__getitem__',\n",
       " '__gt__',\n",
       " '__hash__',\n",
       " '__init__',\n",
       " '__init_subclass__',\n",
       " '__iter__',\n",
       " '__le__',\n",
       " '__len__',\n",
       " '__lt__',\n",
       " '__module__',\n",
       " '__ne__',\n",
       " '__new__',\n",
       " '__reduce__',\n",
       " '__reduce_ex__',\n",
       " '__repr__',\n",
       " '__setattr__',\n",
       " '__sizeof__',\n",
       " '__str__',\n",
       " '__subclasshook__',\n",
       " '__unicode__',\n",
       " '__weakref__',\n",
       " '_accessors',\n",
       " '_add_numeric_operations',\n",
       " '_agg_doc',\n",
       " '_aggregate',\n",
       " '_aggregate_generic',\n",
       " '_aggregate_item_by_item',\n",
       " '_aggregate_multiple_funcs',\n",
       " '_apply_filter',\n",
       " '_apply_to_column_groupbys',\n",
       " '_apply_whitelist',\n",
       " '_assure_grouper',\n",
       " '_block_agg_axis',\n",
       " '_bool_agg',\n",
       " '_builtin_table',\n",
       " '_choose_path',\n",
       " '_concat_objects',\n",
       " '_constructor',\n",
       " '_cumcount_array',\n",
       " '_cython_agg_blocks',\n",
       " '_cython_agg_general',\n",
       " '_cython_table',\n",
       " '_cython_transform',\n",
       " '_decide_output_index',\n",
       " '_def_str',\n",
       " '_define_paths',\n",
       " '_deprecations',\n",
       " '_dir_additions',\n",
       " '_dir_deletions',\n",
       " '_fill',\n",
       " '_get_cythonized_result',\n",
       " '_get_data_to_aggregate',\n",
       " '_get_index',\n",
       " '_get_indices',\n",
       " '_gotitem',\n",
       " '_group_selection',\n",
       " '_insert_inaxis_grouper_inplace',\n",
       " '_internal_names',\n",
       " '_internal_names_set',\n",
       " '_is_builtin_func',\n",
       " '_is_cython_func',\n",
       " '_iterate_column_groupbys',\n",
       " '_iterate_slices',\n",
       " '_make_wrapper',\n",
       " '_obj_with_exclusions',\n",
       " '_post_process_cython_aggregate',\n",
       " '_python_agg_general',\n",
       " '_python_apply_general',\n",
       " '_reindex_output',\n",
       " '_reset_cache',\n",
       " '_reset_group_selection',\n",
       " '_selected_obj',\n",
       " '_selection',\n",
       " '_selection_list',\n",
       " '_selection_name',\n",
       " '_set_group_selection',\n",
       " '_set_result_index_ordered',\n",
       " '_shallow_copy',\n",
       " '_transform_fast',\n",
       " '_transform_general',\n",
       " '_transform_item_by_item',\n",
       " '_transform_should_cast',\n",
       " '_try_aggregate_string_function',\n",
       " '_try_cast',\n",
       " '_wrap_agged_blocks',\n",
       " '_wrap_aggregated_output',\n",
       " '_wrap_applied_output',\n",
       " '_wrap_generic_output',\n",
       " '_wrap_transformed_output',\n",
       " 'agg',\n",
       " 'aggregate',\n",
       " 'all',\n",
       " 'any',\n",
       " 'apply',\n",
       " 'backfill',\n",
       " 'bfill',\n",
       " 'boxplot',\n",
       " 'corr',\n",
       " 'corrwith',\n",
       " 'count',\n",
       " 'cov',\n",
       " 'cumcount',\n",
       " 'cummax',\n",
       " 'cummin',\n",
       " 'cumprod',\n",
       " 'cumsum',\n",
       " 'describe',\n",
       " 'diff',\n",
       " 'dtypes',\n",
       " 'expanding',\n",
       " 'ffill',\n",
       " 'fillna',\n",
       " 'filter',\n",
       " 'first',\n",
       " 'get_group',\n",
       " 'groups',\n",
       " 'head',\n",
       " 'hist',\n",
       " 'idxmax',\n",
       " 'idxmin',\n",
       " 'indices',\n",
       " 'last',\n",
       " 'mad',\n",
       " 'max',\n",
       " 'mean',\n",
       " 'median',\n",
       " 'min',\n",
       " 'ndim',\n",
       " 'ngroup',\n",
       " 'ngroups',\n",
       " 'nth',\n",
       " 'nunique',\n",
       " 'ohlc',\n",
       " 'pad',\n",
       " 'pct_change',\n",
       " 'pipe',\n",
       " 'plot',\n",
       " 'prod',\n",
       " 'quantile',\n",
       " 'rank',\n",
       " 'resample',\n",
       " 'rolling',\n",
       " 'sem',\n",
       " 'shift',\n",
       " 'size',\n",
       " 'skew',\n",
       " 'std',\n",
       " 'sum',\n",
       " 'tail',\n",
       " 'take',\n",
       " 'transform',\n",
       " 'tshift',\n",
       " 'var']"
      ]
     },
     "execution_count": 54,
     "metadata": {},
     "output_type": "execute_result"
    }
   ],
   "source": [
    "dir(df1.groupby(['Complaint-status']))"
   ]
  },
  {
   "cell_type": "code",
   "execution_count": 55,
   "metadata": {
    "collapsed": true
   },
   "outputs": [
    {
     "data": {
      "text/html": [
       "<div>\n",
       "<style scoped>\n",
       "    .dataframe tbody tr th:only-of-type {\n",
       "        vertical-align: middle;\n",
       "    }\n",
       "\n",
       "    .dataframe tbody tr th {\n",
       "        vertical-align: top;\n",
       "    }\n",
       "\n",
       "    .dataframe thead th {\n",
       "        text-align: right;\n",
       "    }\n",
       "</style>\n",
       "<table border=\"1\" class=\"dataframe\">\n",
       "  <thead>\n",
       "    <tr style=\"text-align: right;\">\n",
       "      <th></th>\n",
       "      <th>Complaint-ID</th>\n",
       "    </tr>\n",
       "    <tr>\n",
       "      <th>Complaint-status</th>\n",
       "      <th></th>\n",
       "    </tr>\n",
       "  </thead>\n",
       "  <tbody>\n",
       "    <tr>\n",
       "      <th>Closed</th>\n",
       "      <td>816</td>\n",
       "    </tr>\n",
       "    <tr>\n",
       "      <th>Closed with explanation</th>\n",
       "      <td>15353</td>\n",
       "    </tr>\n",
       "    <tr>\n",
       "      <th>Closed with monetary relief</th>\n",
       "      <td>940</td>\n",
       "    </tr>\n",
       "    <tr>\n",
       "      <th>Closed with non-monetary relief</th>\n",
       "      <td>1432</td>\n",
       "    </tr>\n",
       "    <tr>\n",
       "      <th>Untimely response</th>\n",
       "      <td>2</td>\n",
       "    </tr>\n",
       "  </tbody>\n",
       "</table>\n",
       "</div>"
      ],
      "text/plain": [
       "                                 Complaint-ID\n",
       "Complaint-status                             \n",
       "Closed                                    816\n",
       "Closed with explanation                 15353\n",
       "Closed with monetary relief               940\n",
       "Closed with non-monetary relief          1432\n",
       "Untimely response                           2"
      ]
     },
     "execution_count": 55,
     "metadata": {},
     "output_type": "execute_result"
    }
   ],
   "source": [
    "df1.groupby(['Complaint-status']).count()"
   ]
  },
  {
   "cell_type": "code",
   "execution_count": null,
   "metadata": {},
   "outputs": [],
   "source": []
  }
 ],
 "metadata": {
  "accelerator": "GPU",
  "colab": {
   "collapsed_sections": [],
   "name": "project_1_HK.ipynb",
   "provenance": [],
   "version": "0.3.2"
  },
  "kernelspec": {
   "display_name": "Python 3",
   "language": "python",
   "name": "python3"
  },
  "language_info": {
   "codemirror_mode": {
    "name": "ipython",
    "version": 3
   },
   "file_extension": ".py",
   "mimetype": "text/x-python",
   "name": "python",
   "nbconvert_exporter": "python",
   "pygments_lexer": "ipython3",
   "version": "3.6.5"
  }
 },
 "nbformat": 4,
 "nbformat_minor": 1
}
